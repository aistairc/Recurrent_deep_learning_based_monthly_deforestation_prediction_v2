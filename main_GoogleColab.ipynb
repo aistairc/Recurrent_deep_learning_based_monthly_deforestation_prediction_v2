{
  "nbformat": 4,
  "nbformat_minor": 0,
  "metadata": {
    "colab": {
      "provenance": [],
      "gpuType": "T4"
    },
    "kernelspec": {
      "name": "python3",
      "display_name": "Python 3"
    },
    "language_info": {
      "name": "python"
    },
    "accelerator": "GPU"
  },
  "cells": [
    {
      "cell_type": "markdown",
      "source": [
        "# **Main script for deforestation prediction**<br/>\n",
        "checked OS: Google Colab Pro+<br/>\n",
        "\n",
        "Suguru Kanoga, 16-Aug.-2024<br/>\n",
        "Artificial Intelligence Research Center, National Institute of Advanced Industrial Science and Technology (AIST)<br/>\n",
        "E-mail: s.kanouga@aist.go.jp<br/>\n",
        "\n",
        "Updated points<br/>\n",
        "1. improved flexibility of whole scripts\n",
        "2. added config function for managing variables\n",
        "3. added new feature from road information\n",
        "4. added regression scenario (but not effective)\n",
        "5. separated training and evaluation steps\n",
        "6. added future predicition function\n",
        "7. added two masking functions (based on output probability and sum of deforestated area in a mesh)\n",
        "8. added EarlyStopping function\n",
        "9. added save function for geojson file to visualize results in QGIS software\n",
        "10. adapted to Google Colab"
      ],
      "metadata": {
        "id": "QVEevPNe_YEy"
      }
    },
    {
      "cell_type": "markdown",
      "source": [
        "**check python version**"
      ],
      "metadata": {
        "id": "vA72hgQmQMkV"
      }
    },
    {
      "cell_type": "code",
      "source": [
        "!python --version"
      ],
      "metadata": {
        "colab": {
          "base_uri": "https://localhost:8080/"
        },
        "id": "RczXJccVQXx8",
        "outputId": "b7b5210e-2f4c-44b0-9afa-6c5fa82c0604"
      },
      "execution_count": 1,
      "outputs": [
        {
          "output_type": "stream",
          "name": "stdout",
          "text": [
            "Python 3.10.12\n"
          ]
        }
      ]
    },
    {
      "cell_type": "markdown",
      "source": [
        "**install packages**"
      ],
      "metadata": {
        "id": "XMj2bT4RAqCd"
      }
    },
    {
      "cell_type": "code",
      "source": [
        "!pip install scikit-learn==1.3.2\n",
        "!pip install skorch==0.15.0"
      ],
      "metadata": {
        "colab": {
          "base_uri": "https://localhost:8080/"
        },
        "id": "59P61KGsBLCt",
        "outputId": "53829df6-844c-450e-81cf-205481929e48"
      },
      "execution_count": 2,
      "outputs": [
        {
          "output_type": "stream",
          "name": "stdout",
          "text": [
            "Requirement already satisfied: scikit-learn==1.3.2 in /usr/local/lib/python3.10/dist-packages (1.3.2)\n",
            "Requirement already satisfied: numpy<2.0,>=1.17.3 in /usr/local/lib/python3.10/dist-packages (from scikit-learn==1.3.2) (1.26.4)\n",
            "Requirement already satisfied: scipy>=1.5.0 in /usr/local/lib/python3.10/dist-packages (from scikit-learn==1.3.2) (1.13.1)\n",
            "Requirement already satisfied: joblib>=1.1.1 in /usr/local/lib/python3.10/dist-packages (from scikit-learn==1.3.2) (1.4.2)\n",
            "Requirement already satisfied: threadpoolctl>=2.0.0 in /usr/local/lib/python3.10/dist-packages (from scikit-learn==1.3.2) (3.5.0)\n",
            "Collecting skorch==0.15.0\n",
            "  Downloading skorch-0.15.0-py3-none-any.whl.metadata (11 kB)\n",
            "Requirement already satisfied: numpy>=1.13.3 in /usr/local/lib/python3.10/dist-packages (from skorch==0.15.0) (1.26.4)\n",
            "Requirement already satisfied: scikit-learn>=0.22.0 in /usr/local/lib/python3.10/dist-packages (from skorch==0.15.0) (1.3.2)\n",
            "Requirement already satisfied: scipy>=1.1.0 in /usr/local/lib/python3.10/dist-packages (from skorch==0.15.0) (1.13.1)\n",
            "Requirement already satisfied: tabulate>=0.7.7 in /usr/local/lib/python3.10/dist-packages (from skorch==0.15.0) (0.9.0)\n",
            "Requirement already satisfied: tqdm>=4.14.0 in /usr/local/lib/python3.10/dist-packages (from skorch==0.15.0) (4.66.5)\n",
            "Requirement already satisfied: joblib>=1.1.1 in /usr/local/lib/python3.10/dist-packages (from scikit-learn>=0.22.0->skorch==0.15.0) (1.4.2)\n",
            "Requirement already satisfied: threadpoolctl>=2.0.0 in /usr/local/lib/python3.10/dist-packages (from scikit-learn>=0.22.0->skorch==0.15.0) (3.5.0)\n",
            "Downloading skorch-0.15.0-py3-none-any.whl (239 kB)\n",
            "\u001b[2K   \u001b[90m━━━━━━━━━━━━━━━━━━━━━━━━━━━━━━━━━━━━━━━━\u001b[0m \u001b[32m239.3/239.3 kB\u001b[0m \u001b[31m12.9 MB/s\u001b[0m eta \u001b[36m0:00:00\u001b[0m\n",
            "\u001b[?25hInstalling collected packages: skorch\n",
            "Successfully installed skorch-0.15.0\n"
          ]
        }
      ]
    },
    {
      "cell_type": "markdown",
      "source": [
        "**Mount your Google Drive and set main directory**"
      ],
      "metadata": {
        "id": "13bL06HO_Q4B"
      }
    },
    {
      "cell_type": "code",
      "execution_count": 3,
      "metadata": {
        "colab": {
          "base_uri": "https://localhost:8080/"
        },
        "id": "ndV3s8Rn6X_f",
        "outputId": "634bead2-80a9-4377-f158-e54bef542118"
      },
      "outputs": [
        {
          "output_type": "stream",
          "name": "stdout",
          "text": [
            "Mounted at /content/drive\n",
            "config.py    hyperparameter_search.py  network.py  preprocess.py     result\n",
            "data\t     main.py\t\t       predict\t   __pycache__\t     train.py\n",
            "evaluate.py  model\t\t       predict.py  requirements.txt  utils.py\n"
          ]
        }
      ],
      "source": [
        "# mount your Google Drive\n",
        "from google.colab import drive\n",
        "\n",
        "WORK_DRIVE = '/content/drive'\n",
        "drive.mount(WORK_DRIVE)\n",
        "\n",
        "# set main directory\n",
        "import os\n",
        "\n",
        "WORK_DIR = os.path.join(WORK_DRIVE, 'MyDrive/Recurrent_deep_learning_based_monthly_deforestation_prediction_v2')\n",
        "os.chdir(WORK_DIR)\n",
        "!ls"
      ]
    },
    {
      "cell_type": "markdown",
      "source": [
        "**import packages**"
      ],
      "metadata": {
        "id": "scSMSJ4UAbwS"
      }
    },
    {
      "cell_type": "code",
      "source": [
        "# public\n",
        "import os\n",
        "import numpy as np\n",
        "\n",
        "# private\n",
        "from config import *\n",
        "from preprocess import make_dataset\n",
        "from hyperparameter_search import grid_search\n",
        "import train\n",
        "from predict import future_predict\n",
        "from evaluate import offline_analysis, summary_table, visualize_offline_results, map_visualize_offline_analysis"
      ],
      "metadata": {
        "id": "DgEkCvE8Af_k"
      },
      "execution_count": 4,
      "outputs": []
    },
    {
      "cell_type": "markdown",
      "source": [
        "**set config**"
      ],
      "metadata": {
        "id": "yAAJQUZkBYX1"
      }
    },
    {
      "cell_type": "code",
      "source": [
        "cfg = config()"
      ],
      "metadata": {
        "id": "dxZgGyc4BXAq"
      },
      "execution_count": 5,
      "outputs": []
    },
    {
      "cell_type": "markdown",
      "source": [
        "**preprocess**"
      ],
      "metadata": {
        "id": "sTHtR5yHBYCq"
      }
    },
    {
      "cell_type": "code",
      "source": [
        "# make dataset\n",
        "if not os.path.exists(os.path.join(cfg.DATA_DIR, \"dataset_\"+cfg.PROBLEM+\".npz\")) or cfg.REMAKING:\n",
        "    make_dataset(cfg)\n",
        "\n",
        "# load dataset\n",
        "npz = np.load(os.path.join(cfg.DATA_DIR, \"dataset_\"+cfg.PROBLEM+\".npz\"))\n",
        "period_info, mesh_ids, labels, features = npz['arr_0'], npz['arr_1'], npz['arr_2'], npz['arr_3']\n",
        "period_info = list(period_info)\n",
        "\n",
        "print('problem: ', cfg.PROBLEM)\n",
        "print('areas: ', cfg.area_list)\n",
        "print('preriod of dataset: ', period_info)\n",
        "print('length of period: ', len(period_info))\n",
        "print('total mesh ids: ', mesh_ids.shape)\n",
        "print('shape of total labels: ', labels.shape)\n",
        "print('shape of total features: ', features.shape)\n",
        "\n",
        "# add the dataset to config\n",
        "cfg.period_info = period_info\n",
        "cfg.mesh_ids = mesh_ids\n",
        "cfg.labels = labels\n",
        "cfg.features = features"
      ],
      "metadata": {
        "colab": {
          "base_uri": "https://localhost:8080/"
        },
        "id": "4rpfNK8wCJIn",
        "outputId": "79fc5857-1a32-4e7f-9055-69d6052947ec"
      },
      "execution_count": 6,
      "outputs": [
        {
          "output_type": "stream",
          "name": "stdout",
          "text": [
            "area:  porto_velho\n",
            "area:  humaita\n",
            "area:  altamira\n",
            "area:  vista_alegre_do_abuna\n",
            "area:  novo_progresso\n",
            "area:  sao_felix_do_xingu\n",
            "area:  S6W57\n",
            "area:  S7W57\n",
            "problem:  classification\n",
            "areas:  ['porto_velho', 'humaita', 'altamira', 'vista_alegre_do_abuna', 'novo_progresso', 'sao_felix_do_xingu', 'S6W57', 'S7W57']\n",
            "preriod of dataset:  ['201810', '201811', '201812', '201901', '201902', '201903', '201904', '201905', '201906', '201907', '201908', '201909', '201910', '201911', '201912', '202001', '202002', '202003', '202004', '202005', '202006', '202007', '202008', '202009', '202010', '202011', '202012', '202101', '202102', '202103', '202104', '202105', '202106', '202107', '202108', '202109', '202110', '202111', '202112', '202201', '202202', '202203', '202204', '202205', '202206', '202207', '202208', '202209']\n",
            "length of period:  48\n",
            "total mesh ids:  (95730,)\n",
            "shape of total labels:  (95730, 48)\n",
            "shape of total features:  (95730, 48, 12, 3)\n"
          ]
        }
      ]
    },
    {
      "cell_type": "markdown",
      "source": [
        "**hyperparameter search**"
      ],
      "metadata": {
        "id": "KxdvpMbmCdSg"
      }
    },
    {
      "cell_type": "code",
      "source": [
        "if not os.path.exists(os.path.join(cfg.MODEL_DIR, \"best_hyperparams_\"+cfg.PROBLEM+\".csv\")):\n",
        "    print('-----------------')\n",
        "    print('start hyperparameter search')\n",
        "    print('-----------------')\n",
        "    grid_search(cfg)\n",
        "else:\n",
        "    print('-----------------')\n",
        "    print('already searched')\n",
        "    print('-----------------')"
      ],
      "metadata": {
        "colab": {
          "base_uri": "https://localhost:8080/"
        },
        "id": "IdVevcDECL42",
        "outputId": "70922c79-12f0-4c28-c12f-83815a835e51"
      },
      "execution_count": 7,
      "outputs": [
        {
          "output_type": "stream",
          "name": "stdout",
          "text": [
            "-----------------\n",
            "already searched\n",
            "-----------------\n"
          ]
        }
      ]
    },
    {
      "cell_type": "markdown",
      "source": [
        "**check GPU type (if you set cpu, please change your GPU type to T4 GPU)**"
      ],
      "metadata": {
        "id": "xRXH5jJ0FKgY"
      }
    },
    {
      "cell_type": "code",
      "source": [
        "import torch\n",
        "device = torch.device('cuda:0' if torch.cuda.is_available() else 'cpu')\n",
        "print(device) # cuda:0 is OK"
      ],
      "metadata": {
        "colab": {
          "base_uri": "https://localhost:8080/"
        },
        "id": "lKQAviegC1rg",
        "outputId": "073be3ab-8b8a-4471-f639-b032d5707ec4"
      },
      "execution_count": 8,
      "outputs": [
        {
          "output_type": "stream",
          "name": "stdout",
          "text": [
            "cuda:0\n"
          ]
        }
      ]
    },
    {
      "cell_type": "markdown",
      "source": [
        "**training with optimized hyperparameters**"
      ],
      "metadata": {
        "id": "tMb7khw4Ci_q"
      }
    },
    {
      "cell_type": "code",
      "source": [
        "if not os.path.exists(os.path.join(cfg.MODEL_DIR, \"LSTM_\"+cfg.train_end_period_list[-1]+\"_\"+cfg.PROBLEM+\".pytorch\")):\n",
        "    print('---------------')\n",
        "    print('start training')\n",
        "    print('---------------')\n",
        "    train.fit(cfg)\n",
        "elif cfg.RETRAINING==True:\n",
        "    print('-----------------')\n",
        "    print('start retraining')\n",
        "    print('-----------------')\n",
        "    train.fit(cfg)\n",
        "else:\n",
        "    print('-----------------')\n",
        "    print('already trained')\n",
        "    print('-----------------')"
      ],
      "metadata": {
        "colab": {
          "base_uri": "https://localhost:8080/"
        },
        "collapsed": true,
        "id": "mzk4RVYnCibw",
        "outputId": "6287970f-6b37-47f1-d96d-6c0265c8c955"
      },
      "execution_count": 9,
      "outputs": [
        {
          "output_type": "stream",
          "name": "stdout",
          "text": [
            "---------------\n",
            "start training\n",
            "---------------\n",
            "==========================\n",
            "train end period:  202009\n",
            "balanced_train_labels:  (25614,)\n",
            "balanced_train_features:  (25614, 12, 3)\n"
          ]
        },
        {
          "output_type": "stream",
          "name": "stderr",
          "text": [
            "[Epoch (train) 1/100]: 100%|██████████| 321/321 [00:02<00:00, 130.43it/s]\n",
            "[Epoch (val) 1/100]: 100%|██████████| 81/81 [00:00<00:00, 564.34it/s]\n",
            "[Epoch (train) 2/100]: 100%|██████████| 321/321 [00:01<00:00, 202.47it/s]\n",
            "[Epoch (val) 2/100]: 100%|██████████| 81/81 [00:00<00:00, 575.38it/s]\n",
            "[Epoch (train) 3/100]: 100%|██████████| 321/321 [00:01<00:00, 206.43it/s]\n",
            "[Epoch (val) 3/100]: 100%|██████████| 81/81 [00:00<00:00, 361.88it/s]\n"
          ]
        },
        {
          "output_type": "stream",
          "name": "stdout",
          "text": [
            "EarlyStopping counter: 1 out of 5\n"
          ]
        },
        {
          "output_type": "stream",
          "name": "stderr",
          "text": [
            "[Epoch (train) 4/100]: 100%|██████████| 321/321 [00:01<00:00, 161.30it/s]\n",
            "[Epoch (val) 4/100]: 100%|██████████| 81/81 [00:00<00:00, 367.74it/s]\n"
          ]
        },
        {
          "output_type": "stream",
          "name": "stdout",
          "text": [
            "EarlyStopping counter: 2 out of 5\n"
          ]
        },
        {
          "output_type": "stream",
          "name": "stderr",
          "text": [
            "[Epoch (train) 5/100]: 100%|██████████| 321/321 [00:02<00:00, 141.34it/s]\n",
            "[Epoch (val) 5/100]: 100%|██████████| 81/81 [00:00<00:00, 264.08it/s]\n"
          ]
        },
        {
          "output_type": "stream",
          "name": "stdout",
          "text": [
            "EarlyStopping counter: 3 out of 5\n"
          ]
        },
        {
          "output_type": "stream",
          "name": "stderr",
          "text": [
            "[Epoch (train) 6/100]: 100%|██████████| 321/321 [00:01<00:00, 186.19it/s]\n",
            "[Epoch (val) 6/100]: 100%|██████████| 81/81 [00:00<00:00, 610.35it/s]\n"
          ]
        },
        {
          "output_type": "stream",
          "name": "stdout",
          "text": [
            "EarlyStopping counter: 4 out of 5\n"
          ]
        },
        {
          "output_type": "stream",
          "name": "stderr",
          "text": [
            "[Epoch (train) 7/100]: 100%|██████████| 321/321 [00:01<00:00, 205.23it/s]\n",
            "[Epoch (val) 7/100]: 100%|██████████| 81/81 [00:00<00:00, 620.76it/s]\n",
            "[Epoch (train) 8/100]: 100%|██████████| 321/321 [00:01<00:00, 200.60it/s]\n",
            "[Epoch (val) 8/100]: 100%|██████████| 81/81 [00:00<00:00, 554.56it/s]\n"
          ]
        },
        {
          "output_type": "stream",
          "name": "stdout",
          "text": [
            "EarlyStopping counter: 1 out of 5\n"
          ]
        },
        {
          "output_type": "stream",
          "name": "stderr",
          "text": [
            "[Epoch (train) 9/100]: 100%|██████████| 321/321 [00:01<00:00, 211.14it/s]\n",
            "[Epoch (val) 9/100]: 100%|██████████| 81/81 [00:00<00:00, 585.22it/s]\n"
          ]
        },
        {
          "output_type": "stream",
          "name": "stdout",
          "text": [
            "EarlyStopping counter: 2 out of 5\n"
          ]
        },
        {
          "output_type": "stream",
          "name": "stderr",
          "text": [
            "[Epoch (train) 10/100]: 100%|██████████| 321/321 [00:01<00:00, 200.02it/s]\n",
            "[Epoch (val) 10/100]: 100%|██████████| 81/81 [00:00<00:00, 527.00it/s]\n"
          ]
        },
        {
          "output_type": "stream",
          "name": "stdout",
          "text": [
            "EarlyStopping counter: 3 out of 5\n"
          ]
        },
        {
          "output_type": "stream",
          "name": "stderr",
          "text": [
            "[Epoch (train) 11/100]: 100%|██████████| 321/321 [00:01<00:00, 196.11it/s]\n",
            "[Epoch (val) 11/100]: 100%|██████████| 81/81 [00:00<00:00, 255.67it/s]\n",
            "[Epoch (train) 12/100]: 100%|██████████| 321/321 [00:02<00:00, 151.39it/s]\n",
            "[Epoch (val) 12/100]: 100%|██████████| 81/81 [00:00<00:00, 408.88it/s]\n"
          ]
        },
        {
          "output_type": "stream",
          "name": "stdout",
          "text": [
            "EarlyStopping counter: 1 out of 5\n"
          ]
        },
        {
          "output_type": "stream",
          "name": "stderr",
          "text": [
            "[Epoch (train) 13/100]: 100%|██████████| 321/321 [00:01<00:00, 182.06it/s]\n",
            "[Epoch (val) 13/100]: 100%|██████████| 81/81 [00:00<00:00, 607.01it/s]\n"
          ]
        },
        {
          "output_type": "stream",
          "name": "stdout",
          "text": [
            "EarlyStopping counter: 2 out of 5\n"
          ]
        },
        {
          "output_type": "stream",
          "name": "stderr",
          "text": [
            "[Epoch (train) 14/100]: 100%|██████████| 321/321 [00:01<00:00, 244.72it/s]\n",
            "[Epoch (val) 14/100]: 100%|██████████| 81/81 [00:00<00:00, 613.68it/s]\n"
          ]
        },
        {
          "output_type": "stream",
          "name": "stdout",
          "text": [
            "EarlyStopping counter: 3 out of 5\n"
          ]
        },
        {
          "output_type": "stream",
          "name": "stderr",
          "text": [
            "[Epoch (train) 15/100]: 100%|██████████| 321/321 [00:01<00:00, 252.25it/s]\n",
            "[Epoch (val) 15/100]: 100%|██████████| 81/81 [00:00<00:00, 570.09it/s]\n"
          ]
        },
        {
          "output_type": "stream",
          "name": "stdout",
          "text": [
            "EarlyStopping counter: 4 out of 5\n"
          ]
        },
        {
          "output_type": "stream",
          "name": "stderr",
          "text": [
            "[Epoch (train) 16/100]: 100%|██████████| 321/321 [00:01<00:00, 248.76it/s]\n",
            "[Epoch (val) 16/100]: 100%|██████████| 81/81 [00:00<00:00, 616.46it/s]\n"
          ]
        },
        {
          "output_type": "stream",
          "name": "stdout",
          "text": [
            "EarlyStopping counter: 5 out of 5\n",
            "==========================\n",
            "train end period:  202010\n",
            "balanced_train_labels:  (27060,)\n",
            "balanced_train_features:  (27060, 12, 3)\n"
          ]
        },
        {
          "output_type": "stream",
          "name": "stderr",
          "text": [
            "[Epoch (train) 1/100]: 100%|██████████| 339/339 [00:01<00:00, 225.24it/s]\n",
            "[Epoch (val) 1/100]: 100%|██████████| 85/85 [00:00<00:00, 425.56it/s]\n",
            "[Epoch (train) 2/100]: 100%|██████████| 339/339 [00:01<00:00, 191.26it/s]\n",
            "[Epoch (val) 2/100]: 100%|██████████| 85/85 [00:00<00:00, 391.76it/s]\n"
          ]
        },
        {
          "output_type": "stream",
          "name": "stdout",
          "text": [
            "EarlyStopping counter: 1 out of 5\n"
          ]
        },
        {
          "output_type": "stream",
          "name": "stderr",
          "text": [
            "[Epoch (train) 3/100]: 100%|██████████| 339/339 [00:01<00:00, 184.67it/s]\n",
            "[Epoch (val) 3/100]: 100%|██████████| 85/85 [00:00<00:00, 612.56it/s]\n",
            "[Epoch (train) 4/100]: 100%|██████████| 339/339 [00:01<00:00, 245.01it/s]\n",
            "[Epoch (val) 4/100]: 100%|██████████| 85/85 [00:00<00:00, 549.06it/s]\n"
          ]
        },
        {
          "output_type": "stream",
          "name": "stdout",
          "text": [
            "EarlyStopping counter: 1 out of 5\n"
          ]
        },
        {
          "output_type": "stream",
          "name": "stderr",
          "text": [
            "[Epoch (train) 5/100]: 100%|██████████| 339/339 [00:01<00:00, 249.03it/s]\n",
            "[Epoch (val) 5/100]: 100%|██████████| 85/85 [00:00<00:00, 645.00it/s]\n"
          ]
        },
        {
          "output_type": "stream",
          "name": "stdout",
          "text": [
            "EarlyStopping counter: 2 out of 5\n"
          ]
        },
        {
          "output_type": "stream",
          "name": "stderr",
          "text": [
            "[Epoch (train) 6/100]: 100%|██████████| 339/339 [00:01<00:00, 251.09it/s]\n",
            "[Epoch (val) 6/100]: 100%|██████████| 85/85 [00:00<00:00, 547.44it/s]\n",
            "[Epoch (train) 7/100]: 100%|██████████| 339/339 [00:01<00:00, 251.09it/s]\n",
            "[Epoch (val) 7/100]: 100%|██████████| 85/85 [00:00<00:00, 623.72it/s]\n"
          ]
        },
        {
          "output_type": "stream",
          "name": "stdout",
          "text": [
            "EarlyStopping counter: 1 out of 5\n"
          ]
        },
        {
          "output_type": "stream",
          "name": "stderr",
          "text": [
            "[Epoch (train) 8/100]: 100%|██████████| 339/339 [00:01<00:00, 255.83it/s]\n",
            "[Epoch (val) 8/100]: 100%|██████████| 85/85 [00:00<00:00, 562.47it/s]\n",
            "[Epoch (train) 9/100]: 100%|██████████| 339/339 [00:01<00:00, 256.13it/s]\n",
            "[Epoch (val) 9/100]: 100%|██████████| 85/85 [00:00<00:00, 616.59it/s]\n"
          ]
        },
        {
          "output_type": "stream",
          "name": "stdout",
          "text": [
            "EarlyStopping counter: 1 out of 5\n"
          ]
        },
        {
          "output_type": "stream",
          "name": "stderr",
          "text": [
            "[Epoch (train) 10/100]: 100%|██████████| 339/339 [00:01<00:00, 200.19it/s]\n",
            "[Epoch (val) 10/100]: 100%|██████████| 85/85 [00:00<00:00, 402.21it/s]\n"
          ]
        },
        {
          "output_type": "stream",
          "name": "stdout",
          "text": [
            "EarlyStopping counter: 2 out of 5\n"
          ]
        },
        {
          "output_type": "stream",
          "name": "stderr",
          "text": [
            "[Epoch (train) 11/100]: 100%|██████████| 339/339 [00:01<00:00, 175.75it/s]\n",
            "[Epoch (val) 11/100]: 100%|██████████| 85/85 [00:00<00:00, 426.00it/s]\n",
            "[Epoch (train) 12/100]: 100%|██████████| 339/339 [00:01<00:00, 218.44it/s]\n",
            "[Epoch (val) 12/100]: 100%|██████████| 85/85 [00:00<00:00, 602.36it/s]\n",
            "[Epoch (train) 13/100]: 100%|██████████| 339/339 [00:01<00:00, 217.58it/s]\n",
            "[Epoch (val) 13/100]: 100%|██████████| 85/85 [00:00<00:00, 567.89it/s]\n",
            "[Epoch (train) 14/100]: 100%|██████████| 339/339 [00:01<00:00, 249.33it/s]\n",
            "[Epoch (val) 14/100]: 100%|██████████| 85/85 [00:00<00:00, 590.14it/s]\n"
          ]
        },
        {
          "output_type": "stream",
          "name": "stdout",
          "text": [
            "EarlyStopping counter: 1 out of 5\n"
          ]
        },
        {
          "output_type": "stream",
          "name": "stderr",
          "text": [
            "[Epoch (train) 15/100]: 100%|██████████| 339/339 [00:01<00:00, 249.53it/s]\n",
            "[Epoch (val) 15/100]: 100%|██████████| 85/85 [00:00<00:00, 564.60it/s]\n",
            "[Epoch (train) 16/100]: 100%|██████████| 339/339 [00:01<00:00, 243.37it/s]\n",
            "[Epoch (val) 16/100]: 100%|██████████| 85/85 [00:00<00:00, 611.90it/s]\n"
          ]
        },
        {
          "output_type": "stream",
          "name": "stdout",
          "text": [
            "EarlyStopping counter: 1 out of 5\n"
          ]
        },
        {
          "output_type": "stream",
          "name": "stderr",
          "text": [
            "[Epoch (train) 17/100]: 100%|██████████| 339/339 [00:01<00:00, 241.66it/s]\n",
            "[Epoch (val) 17/100]: 100%|██████████| 85/85 [00:00<00:00, 606.27it/s]\n"
          ]
        },
        {
          "output_type": "stream",
          "name": "stdout",
          "text": [
            "EarlyStopping counter: 2 out of 5\n"
          ]
        },
        {
          "output_type": "stream",
          "name": "stderr",
          "text": [
            "[Epoch (train) 18/100]: 100%|██████████| 339/339 [00:01<00:00, 222.35it/s]\n",
            "[Epoch (val) 18/100]: 100%|██████████| 85/85 [00:00<00:00, 466.71it/s]\n"
          ]
        },
        {
          "output_type": "stream",
          "name": "stdout",
          "text": [
            "EarlyStopping counter: 3 out of 5\n"
          ]
        },
        {
          "output_type": "stream",
          "name": "stderr",
          "text": [
            "[Epoch (train) 19/100]: 100%|██████████| 339/339 [00:01<00:00, 174.25it/s]\n",
            "[Epoch (val) 19/100]: 100%|██████████| 85/85 [00:00<00:00, 380.19it/s]\n"
          ]
        },
        {
          "output_type": "stream",
          "name": "stdout",
          "text": [
            "EarlyStopping counter: 4 out of 5\n"
          ]
        },
        {
          "output_type": "stream",
          "name": "stderr",
          "text": [
            "[Epoch (train) 20/100]: 100%|██████████| 339/339 [00:01<00:00, 201.27it/s]\n",
            "[Epoch (val) 20/100]: 100%|██████████| 85/85 [00:00<00:00, 586.78it/s]\n",
            "[Epoch (train) 21/100]: 100%|██████████| 339/339 [00:01<00:00, 246.91it/s]\n",
            "[Epoch (val) 21/100]: 100%|██████████| 85/85 [00:00<00:00, 628.92it/s]\n"
          ]
        },
        {
          "output_type": "stream",
          "name": "stdout",
          "text": [
            "EarlyStopping counter: 1 out of 5\n"
          ]
        },
        {
          "output_type": "stream",
          "name": "stderr",
          "text": [
            "[Epoch (train) 22/100]: 100%|██████████| 339/339 [00:01<00:00, 241.94it/s]\n",
            "[Epoch (val) 22/100]: 100%|██████████| 85/85 [00:00<00:00, 551.88it/s]\n"
          ]
        },
        {
          "output_type": "stream",
          "name": "stdout",
          "text": [
            "EarlyStopping counter: 2 out of 5\n"
          ]
        },
        {
          "output_type": "stream",
          "name": "stderr",
          "text": [
            "[Epoch (train) 23/100]: 100%|██████████| 339/339 [00:01<00:00, 244.19it/s]\n",
            "[Epoch (val) 23/100]: 100%|██████████| 85/85 [00:00<00:00, 629.73it/s]\n"
          ]
        },
        {
          "output_type": "stream",
          "name": "stdout",
          "text": [
            "EarlyStopping counter: 3 out of 5\n"
          ]
        },
        {
          "output_type": "stream",
          "name": "stderr",
          "text": [
            "[Epoch (train) 24/100]: 100%|██████████| 339/339 [00:01<00:00, 237.63it/s]\n",
            "[Epoch (val) 24/100]: 100%|██████████| 85/85 [00:00<00:00, 626.73it/s]\n"
          ]
        },
        {
          "output_type": "stream",
          "name": "stdout",
          "text": [
            "EarlyStopping counter: 4 out of 5\n"
          ]
        },
        {
          "output_type": "stream",
          "name": "stderr",
          "text": [
            "[Epoch (train) 25/100]: 100%|██████████| 339/339 [00:01<00:00, 245.05it/s]\n",
            "[Epoch (val) 25/100]: 100%|██████████| 85/85 [00:00<00:00, 604.85it/s]\n"
          ]
        },
        {
          "output_type": "stream",
          "name": "stdout",
          "text": [
            "EarlyStopping counter: 5 out of 5\n",
            "==========================\n",
            "train end period:  202011\n",
            "balanced_train_labels:  (27484,)\n",
            "balanced_train_features:  (27484, 12, 3)\n"
          ]
        },
        {
          "output_type": "stream",
          "name": "stderr",
          "text": [
            "[Epoch (train) 1/100]: 100%|██████████| 344/344 [00:01<00:00, 228.42it/s]\n",
            "[Epoch (val) 1/100]: 100%|██████████| 86/86 [00:00<00:00, 632.72it/s]\n",
            "[Epoch (train) 2/100]: 100%|██████████| 344/344 [00:01<00:00, 245.66it/s]\n",
            "[Epoch (val) 2/100]: 100%|██████████| 86/86 [00:00<00:00, 630.84it/s]\n"
          ]
        },
        {
          "output_type": "stream",
          "name": "stdout",
          "text": [
            "EarlyStopping counter: 1 out of 5\n"
          ]
        },
        {
          "output_type": "stream",
          "name": "stderr",
          "text": [
            "[Epoch (train) 3/100]: 100%|██████████| 344/344 [00:01<00:00, 251.46it/s]\n",
            "[Epoch (val) 3/100]: 100%|██████████| 86/86 [00:00<00:00, 615.30it/s]\n"
          ]
        },
        {
          "output_type": "stream",
          "name": "stdout",
          "text": [
            "EarlyStopping counter: 2 out of 5\n"
          ]
        },
        {
          "output_type": "stream",
          "name": "stderr",
          "text": [
            "[Epoch (train) 4/100]: 100%|██████████| 344/344 [00:01<00:00, 248.45it/s]\n",
            "[Epoch (val) 4/100]: 100%|██████████| 86/86 [00:00<00:00, 625.99it/s]\n",
            "[Epoch (train) 5/100]: 100%|██████████| 344/344 [00:01<00:00, 251.27it/s]\n",
            "[Epoch (val) 5/100]: 100%|██████████| 86/86 [00:00<00:00, 588.56it/s]\n"
          ]
        },
        {
          "output_type": "stream",
          "name": "stdout",
          "text": [
            "EarlyStopping counter: 1 out of 5\n"
          ]
        },
        {
          "output_type": "stream",
          "name": "stderr",
          "text": [
            "[Epoch (train) 6/100]: 100%|██████████| 344/344 [00:01<00:00, 253.73it/s]\n",
            "[Epoch (val) 6/100]: 100%|██████████| 86/86 [00:00<00:00, 585.58it/s]\n"
          ]
        },
        {
          "output_type": "stream",
          "name": "stdout",
          "text": [
            "EarlyStopping counter: 2 out of 5\n"
          ]
        },
        {
          "output_type": "stream",
          "name": "stderr",
          "text": [
            "[Epoch (train) 7/100]: 100%|██████████| 344/344 [00:01<00:00, 232.24it/s]\n",
            "[Epoch (val) 7/100]: 100%|██████████| 86/86 [00:00<00:00, 459.34it/s]\n",
            "[Epoch (train) 8/100]: 100%|██████████| 344/344 [00:01<00:00, 180.88it/s]\n",
            "[Epoch (val) 8/100]: 100%|██████████| 86/86 [00:00<00:00, 377.49it/s]\n"
          ]
        },
        {
          "output_type": "stream",
          "name": "stdout",
          "text": [
            "EarlyStopping counter: 1 out of 5\n"
          ]
        },
        {
          "output_type": "stream",
          "name": "stderr",
          "text": [
            "[Epoch (train) 9/100]: 100%|██████████| 344/344 [00:01<00:00, 186.74it/s]\n",
            "[Epoch (val) 9/100]: 100%|██████████| 86/86 [00:00<00:00, 589.07it/s]\n",
            "[Epoch (train) 10/100]: 100%|██████████| 344/344 [00:01<00:00, 240.95it/s]\n",
            "[Epoch (val) 10/100]: 100%|██████████| 86/86 [00:00<00:00, 623.10it/s]\n",
            "[Epoch (train) 11/100]: 100%|██████████| 344/344 [00:01<00:00, 245.33it/s]\n",
            "[Epoch (val) 11/100]: 100%|██████████| 86/86 [00:00<00:00, 614.45it/s]\n"
          ]
        },
        {
          "output_type": "stream",
          "name": "stdout",
          "text": [
            "EarlyStopping counter: 1 out of 5\n"
          ]
        },
        {
          "output_type": "stream",
          "name": "stderr",
          "text": [
            "[Epoch (train) 12/100]: 100%|██████████| 344/344 [00:01<00:00, 243.49it/s]\n",
            "[Epoch (val) 12/100]: 100%|██████████| 86/86 [00:00<00:00, 587.00it/s]\n"
          ]
        },
        {
          "output_type": "stream",
          "name": "stdout",
          "text": [
            "EarlyStopping counter: 2 out of 5\n"
          ]
        },
        {
          "output_type": "stream",
          "name": "stderr",
          "text": [
            "[Epoch (train) 13/100]: 100%|██████████| 344/344 [00:01<00:00, 233.71it/s]\n",
            "[Epoch (val) 13/100]: 100%|██████████| 86/86 [00:00<00:00, 595.58it/s]\n"
          ]
        },
        {
          "output_type": "stream",
          "name": "stdout",
          "text": [
            "EarlyStopping counter: 3 out of 5\n"
          ]
        },
        {
          "output_type": "stream",
          "name": "stderr",
          "text": [
            "[Epoch (train) 14/100]: 100%|██████████| 344/344 [00:01<00:00, 237.83it/s]\n",
            "[Epoch (val) 14/100]: 100%|██████████| 86/86 [00:00<00:00, 575.15it/s]\n"
          ]
        },
        {
          "output_type": "stream",
          "name": "stdout",
          "text": [
            "EarlyStopping counter: 4 out of 5\n"
          ]
        },
        {
          "output_type": "stream",
          "name": "stderr",
          "text": [
            "[Epoch (train) 15/100]: 100%|██████████| 344/344 [00:01<00:00, 243.33it/s]\n",
            "[Epoch (val) 15/100]: 100%|██████████| 86/86 [00:00<00:00, 398.40it/s]\n"
          ]
        },
        {
          "output_type": "stream",
          "name": "stdout",
          "text": [
            "EarlyStopping counter: 5 out of 5\n",
            "==========================\n",
            "train end period:  202012\n",
            "balanced_train_labels:  (27754,)\n",
            "balanced_train_features:  (27754, 12, 3)\n"
          ]
        },
        {
          "output_type": "stream",
          "name": "stderr",
          "text": [
            "[Epoch (train) 1/100]: 100%|██████████| 347/347 [00:01<00:00, 245.84it/s]\n",
            "[Epoch (val) 1/100]: 100%|██████████| 87/87 [00:00<00:00, 624.52it/s]\n",
            "[Epoch (train) 2/100]: 100%|██████████| 347/347 [00:01<00:00, 245.10it/s]\n",
            "[Epoch (val) 2/100]: 100%|██████████| 87/87 [00:00<00:00, 566.67it/s]\n",
            "[Epoch (train) 3/100]: 100%|██████████| 347/347 [00:01<00:00, 243.72it/s]\n",
            "[Epoch (val) 3/100]: 100%|██████████| 87/87 [00:00<00:00, 568.37it/s]\n",
            "[Epoch (train) 4/100]: 100%|██████████| 347/347 [00:01<00:00, 246.28it/s]\n",
            "[Epoch (val) 4/100]: 100%|██████████| 87/87 [00:00<00:00, 535.73it/s]\n",
            "[Epoch (train) 5/100]: 100%|██████████| 347/347 [00:01<00:00, 242.31it/s]\n",
            "[Epoch (val) 5/100]: 100%|██████████| 87/87 [00:00<00:00, 607.36it/s]\n",
            "[Epoch (train) 6/100]: 100%|██████████| 347/347 [00:01<00:00, 197.24it/s]\n",
            "[Epoch (val) 6/100]: 100%|██████████| 87/87 [00:00<00:00, 424.25it/s]\n",
            "[Epoch (train) 7/100]: 100%|██████████| 347/347 [00:01<00:00, 174.09it/s]\n",
            "[Epoch (val) 7/100]: 100%|██████████| 87/87 [00:00<00:00, 364.78it/s]\n",
            "[Epoch (train) 8/100]: 100%|██████████| 347/347 [00:01<00:00, 241.83it/s]\n",
            "[Epoch (val) 8/100]: 100%|██████████| 87/87 [00:00<00:00, 591.97it/s]\n",
            "[Epoch (train) 9/100]: 100%|██████████| 347/347 [00:01<00:00, 244.22it/s]\n",
            "[Epoch (val) 9/100]: 100%|██████████| 87/87 [00:00<00:00, 619.67it/s]\n"
          ]
        },
        {
          "output_type": "stream",
          "name": "stdout",
          "text": [
            "EarlyStopping counter: 1 out of 5\n"
          ]
        },
        {
          "output_type": "stream",
          "name": "stderr",
          "text": [
            "[Epoch (train) 10/100]: 100%|██████████| 347/347 [00:01<00:00, 242.69it/s]\n",
            "[Epoch (val) 10/100]: 100%|██████████| 87/87 [00:00<00:00, 600.59it/s]\n"
          ]
        },
        {
          "output_type": "stream",
          "name": "stdout",
          "text": [
            "EarlyStopping counter: 2 out of 5\n"
          ]
        },
        {
          "output_type": "stream",
          "name": "stderr",
          "text": [
            "[Epoch (train) 11/100]: 100%|██████████| 347/347 [00:01<00:00, 250.06it/s]\n",
            "[Epoch (val) 11/100]: 100%|██████████| 87/87 [00:00<00:00, 626.07it/s]\n"
          ]
        },
        {
          "output_type": "stream",
          "name": "stdout",
          "text": [
            "EarlyStopping counter: 3 out of 5\n"
          ]
        },
        {
          "output_type": "stream",
          "name": "stderr",
          "text": [
            "[Epoch (train) 12/100]: 100%|██████████| 347/347 [00:01<00:00, 247.19it/s]\n",
            "[Epoch (val) 12/100]: 100%|██████████| 87/87 [00:00<00:00, 604.76it/s]\n"
          ]
        },
        {
          "output_type": "stream",
          "name": "stdout",
          "text": [
            "EarlyStopping counter: 4 out of 5\n"
          ]
        },
        {
          "output_type": "stream",
          "name": "stderr",
          "text": [
            "[Epoch (train) 13/100]: 100%|██████████| 347/347 [00:01<00:00, 243.20it/s]\n",
            "[Epoch (val) 13/100]: 100%|██████████| 87/87 [00:00<00:00, 609.72it/s]\n"
          ]
        },
        {
          "output_type": "stream",
          "name": "stdout",
          "text": [
            "EarlyStopping counter: 5 out of 5\n",
            "==========================\n",
            "train end period:  202101\n",
            "balanced_train_labels:  (27802,)\n",
            "balanced_train_features:  (27802, 12, 3)\n"
          ]
        },
        {
          "output_type": "stream",
          "name": "stderr",
          "text": [
            "[Epoch (train) 1/100]: 100%|██████████| 348/348 [00:01<00:00, 245.54it/s]\n",
            "[Epoch (val) 1/100]: 100%|██████████| 87/87 [00:00<00:00, 593.96it/s]\n",
            "[Epoch (train) 2/100]: 100%|██████████| 348/348 [00:01<00:00, 247.92it/s]\n",
            "[Epoch (val) 2/100]: 100%|██████████| 87/87 [00:00<00:00, 606.42it/s]\n"
          ]
        },
        {
          "output_type": "stream",
          "name": "stdout",
          "text": [
            "EarlyStopping counter: 1 out of 5\n"
          ]
        },
        {
          "output_type": "stream",
          "name": "stderr",
          "text": [
            "[Epoch (train) 3/100]: 100%|██████████| 348/348 [00:01<00:00, 248.00it/s]\n",
            "[Epoch (val) 3/100]: 100%|██████████| 87/87 [00:00<00:00, 605.53it/s]\n"
          ]
        },
        {
          "output_type": "stream",
          "name": "stdout",
          "text": [
            "EarlyStopping counter: 2 out of 5\n"
          ]
        },
        {
          "output_type": "stream",
          "name": "stderr",
          "text": [
            "[Epoch (train) 4/100]: 100%|██████████| 348/348 [00:01<00:00, 242.41it/s]\n",
            "[Epoch (val) 4/100]: 100%|██████████| 87/87 [00:00<00:00, 571.29it/s]\n"
          ]
        },
        {
          "output_type": "stream",
          "name": "stdout",
          "text": [
            "EarlyStopping counter: 3 out of 5\n"
          ]
        },
        {
          "output_type": "stream",
          "name": "stderr",
          "text": [
            "[Epoch (train) 5/100]: 100%|██████████| 348/348 [00:01<00:00, 245.35it/s]\n",
            "[Epoch (val) 5/100]: 100%|██████████| 87/87 [00:00<00:00, 498.65it/s]\n",
            "[Epoch (train) 6/100]: 100%|██████████| 348/348 [00:01<00:00, 209.99it/s]\n",
            "[Epoch (val) 6/100]: 100%|██████████| 87/87 [00:00<00:00, 411.94it/s]\n"
          ]
        },
        {
          "output_type": "stream",
          "name": "stdout",
          "text": [
            "EarlyStopping counter: 1 out of 5\n"
          ]
        },
        {
          "output_type": "stream",
          "name": "stderr",
          "text": [
            "[Epoch (train) 7/100]: 100%|██████████| 348/348 [00:01<00:00, 179.33it/s]\n",
            "[Epoch (val) 7/100]: 100%|██████████| 87/87 [00:00<00:00, 372.98it/s]\n",
            "[Epoch (train) 8/100]: 100%|██████████| 348/348 [00:01<00:00, 222.13it/s]\n",
            "[Epoch (val) 8/100]: 100%|██████████| 87/87 [00:00<00:00, 609.11it/s]\n"
          ]
        },
        {
          "output_type": "stream",
          "name": "stdout",
          "text": [
            "EarlyStopping counter: 1 out of 5\n"
          ]
        },
        {
          "output_type": "stream",
          "name": "stderr",
          "text": [
            "[Epoch (train) 9/100]: 100%|██████████| 348/348 [00:01<00:00, 252.66it/s]\n",
            "[Epoch (val) 9/100]: 100%|██████████| 87/87 [00:00<00:00, 585.13it/s]\n"
          ]
        },
        {
          "output_type": "stream",
          "name": "stdout",
          "text": [
            "EarlyStopping counter: 2 out of 5\n"
          ]
        },
        {
          "output_type": "stream",
          "name": "stderr",
          "text": [
            "[Epoch (train) 10/100]: 100%|██████████| 348/348 [00:01<00:00, 244.99it/s]\n",
            "[Epoch (val) 10/100]: 100%|██████████| 87/87 [00:00<00:00, 619.09it/s]\n"
          ]
        },
        {
          "output_type": "stream",
          "name": "stdout",
          "text": [
            "EarlyStopping counter: 3 out of 5\n"
          ]
        },
        {
          "output_type": "stream",
          "name": "stderr",
          "text": [
            "[Epoch (train) 11/100]: 100%|██████████| 348/348 [00:01<00:00, 248.64it/s]\n",
            "[Epoch (val) 11/100]: 100%|██████████| 87/87 [00:00<00:00, 539.76it/s]\n"
          ]
        },
        {
          "output_type": "stream",
          "name": "stdout",
          "text": [
            "EarlyStopping counter: 4 out of 5\n"
          ]
        },
        {
          "output_type": "stream",
          "name": "stderr",
          "text": [
            "[Epoch (train) 12/100]: 100%|██████████| 348/348 [00:01<00:00, 251.25it/s]\n",
            "[Epoch (val) 12/100]: 100%|██████████| 87/87 [00:00<00:00, 583.46it/s]\n",
            "[Epoch (train) 13/100]: 100%|██████████| 348/348 [00:01<00:00, 252.29it/s]\n",
            "[Epoch (val) 13/100]: 100%|██████████| 87/87 [00:00<00:00, 567.53it/s]\n"
          ]
        },
        {
          "output_type": "stream",
          "name": "stdout",
          "text": [
            "EarlyStopping counter: 1 out of 5\n"
          ]
        },
        {
          "output_type": "stream",
          "name": "stderr",
          "text": [
            "[Epoch (train) 14/100]: 100%|██████████| 348/348 [00:01<00:00, 228.13it/s]\n",
            "[Epoch (val) 14/100]: 100%|██████████| 87/87 [00:00<00:00, 433.04it/s]\n",
            "[Epoch (train) 15/100]: 100%|██████████| 348/348 [00:01<00:00, 183.46it/s]\n",
            "[Epoch (val) 15/100]: 100%|██████████| 87/87 [00:00<00:00, 390.68it/s]\n"
          ]
        },
        {
          "output_type": "stream",
          "name": "stdout",
          "text": [
            "EarlyStopping counter: 1 out of 5\n"
          ]
        },
        {
          "output_type": "stream",
          "name": "stderr",
          "text": [
            "[Epoch (train) 16/100]: 100%|██████████| 348/348 [00:01<00:00, 209.31it/s]\n",
            "[Epoch (val) 16/100]: 100%|██████████| 87/87 [00:00<00:00, 641.57it/s]\n",
            "[Epoch (train) 17/100]: 100%|██████████| 348/348 [00:01<00:00, 249.38it/s]\n",
            "[Epoch (val) 17/100]: 100%|██████████| 87/87 [00:00<00:00, 575.34it/s]\n",
            "[Epoch (train) 18/100]: 100%|██████████| 348/348 [00:01<00:00, 247.32it/s]\n",
            "[Epoch (val) 18/100]: 100%|██████████| 87/87 [00:00<00:00, 621.97it/s]\n"
          ]
        },
        {
          "output_type": "stream",
          "name": "stdout",
          "text": [
            "EarlyStopping counter: 1 out of 5\n"
          ]
        },
        {
          "output_type": "stream",
          "name": "stderr",
          "text": [
            "[Epoch (train) 19/100]: 100%|██████████| 348/348 [00:01<00:00, 250.83it/s]\n",
            "[Epoch (val) 19/100]: 100%|██████████| 87/87 [00:00<00:00, 610.15it/s]\n"
          ]
        },
        {
          "output_type": "stream",
          "name": "stdout",
          "text": [
            "EarlyStopping counter: 2 out of 5\n"
          ]
        },
        {
          "output_type": "stream",
          "name": "stderr",
          "text": [
            "[Epoch (train) 20/100]: 100%|██████████| 348/348 [00:01<00:00, 254.23it/s]\n",
            "[Epoch (val) 20/100]: 100%|██████████| 87/87 [00:00<00:00, 600.63it/s]\n"
          ]
        },
        {
          "output_type": "stream",
          "name": "stdout",
          "text": [
            "EarlyStopping counter: 3 out of 5\n"
          ]
        },
        {
          "output_type": "stream",
          "name": "stderr",
          "text": [
            "[Epoch (train) 21/100]: 100%|██████████| 348/348 [00:01<00:00, 250.33it/s]\n",
            "[Epoch (val) 21/100]: 100%|██████████| 87/87 [00:00<00:00, 585.27it/s]\n"
          ]
        },
        {
          "output_type": "stream",
          "name": "stdout",
          "text": [
            "EarlyStopping counter: 4 out of 5\n"
          ]
        },
        {
          "output_type": "stream",
          "name": "stderr",
          "text": [
            "[Epoch (train) 22/100]: 100%|██████████| 348/348 [00:01<00:00, 238.17it/s]\n",
            "[Epoch (val) 22/100]: 100%|██████████| 87/87 [00:00<00:00, 434.90it/s]\n"
          ]
        },
        {
          "output_type": "stream",
          "name": "stdout",
          "text": [
            "EarlyStopping counter: 5 out of 5\n",
            "==========================\n",
            "train end period:  202102\n",
            "balanced_train_labels:  (27892,)\n",
            "balanced_train_features:  (27892, 12, 3)\n"
          ]
        },
        {
          "output_type": "stream",
          "name": "stderr",
          "text": [
            "[Epoch (train) 1/100]: 100%|██████████| 349/349 [00:01<00:00, 251.54it/s]\n",
            "[Epoch (val) 1/100]: 100%|██████████| 88/88 [00:00<00:00, 601.19it/s]\n",
            "[Epoch (train) 2/100]: 100%|██████████| 349/349 [00:01<00:00, 256.26it/s]\n",
            "[Epoch (val) 2/100]: 100%|██████████| 88/88 [00:00<00:00, 542.20it/s]\n"
          ]
        },
        {
          "output_type": "stream",
          "name": "stdout",
          "text": [
            "EarlyStopping counter: 1 out of 5\n"
          ]
        },
        {
          "output_type": "stream",
          "name": "stderr",
          "text": [
            "[Epoch (train) 3/100]: 100%|██████████| 349/349 [00:01<00:00, 247.33it/s]\n",
            "[Epoch (val) 3/100]: 100%|██████████| 88/88 [00:00<00:00, 529.50it/s]\n"
          ]
        },
        {
          "output_type": "stream",
          "name": "stdout",
          "text": [
            "EarlyStopping counter: 2 out of 5\n"
          ]
        },
        {
          "output_type": "stream",
          "name": "stderr",
          "text": [
            "[Epoch (train) 4/100]: 100%|██████████| 349/349 [00:01<00:00, 250.31it/s]\n",
            "[Epoch (val) 4/100]: 100%|██████████| 88/88 [00:00<00:00, 581.84it/s]\n"
          ]
        },
        {
          "output_type": "stream",
          "name": "stdout",
          "text": [
            "EarlyStopping counter: 3 out of 5\n"
          ]
        },
        {
          "output_type": "stream",
          "name": "stderr",
          "text": [
            "[Epoch (train) 5/100]: 100%|██████████| 349/349 [00:01<00:00, 245.82it/s]\n",
            "[Epoch (val) 5/100]: 100%|██████████| 88/88 [00:00<00:00, 612.74it/s]\n"
          ]
        },
        {
          "output_type": "stream",
          "name": "stdout",
          "text": [
            "EarlyStopping counter: 4 out of 5\n"
          ]
        },
        {
          "output_type": "stream",
          "name": "stderr",
          "text": [
            "[Epoch (train) 6/100]: 100%|██████████| 349/349 [00:01<00:00, 208.35it/s]\n",
            "[Epoch (val) 6/100]: 100%|██████████| 88/88 [00:00<00:00, 394.85it/s]\n"
          ]
        },
        {
          "output_type": "stream",
          "name": "stdout",
          "text": [
            "EarlyStopping counter: 5 out of 5\n",
            "==========================\n",
            "train end period:  202103\n",
            "balanced_train_labels:  (28552,)\n",
            "balanced_train_features:  (28552, 12, 3)\n"
          ]
        },
        {
          "output_type": "stream",
          "name": "stderr",
          "text": [
            "[Epoch (train) 1/100]: 100%|██████████| 357/357 [00:01<00:00, 197.73it/s]\n",
            "[Epoch (val) 1/100]: 100%|██████████| 90/90 [00:00<00:00, 622.80it/s]\n",
            "[Epoch (train) 2/100]: 100%|██████████| 357/357 [00:01<00:00, 252.10it/s]\n",
            "[Epoch (val) 2/100]: 100%|██████████| 90/90 [00:00<00:00, 628.08it/s]\n",
            "[Epoch (train) 3/100]: 100%|██████████| 357/357 [00:01<00:00, 251.28it/s]\n",
            "[Epoch (val) 3/100]: 100%|██████████| 90/90 [00:00<00:00, 632.56it/s]\n"
          ]
        },
        {
          "output_type": "stream",
          "name": "stdout",
          "text": [
            "EarlyStopping counter: 1 out of 5\n"
          ]
        },
        {
          "output_type": "stream",
          "name": "stderr",
          "text": [
            "[Epoch (train) 4/100]: 100%|██████████| 357/357 [00:01<00:00, 255.16it/s]\n",
            "[Epoch (val) 4/100]: 100%|██████████| 90/90 [00:00<00:00, 549.23it/s]\n"
          ]
        },
        {
          "output_type": "stream",
          "name": "stdout",
          "text": [
            "EarlyStopping counter: 2 out of 5\n"
          ]
        },
        {
          "output_type": "stream",
          "name": "stderr",
          "text": [
            "[Epoch (train) 5/100]: 100%|██████████| 357/357 [00:01<00:00, 255.26it/s]\n",
            "[Epoch (val) 5/100]: 100%|██████████| 90/90 [00:00<00:00, 630.05it/s]\n"
          ]
        },
        {
          "output_type": "stream",
          "name": "stdout",
          "text": [
            "EarlyStopping counter: 3 out of 5\n"
          ]
        },
        {
          "output_type": "stream",
          "name": "stderr",
          "text": [
            "[Epoch (train) 6/100]: 100%|██████████| 357/357 [00:01<00:00, 250.73it/s]\n",
            "[Epoch (val) 6/100]: 100%|██████████| 90/90 [00:00<00:00, 631.40it/s]\n",
            "[Epoch (train) 7/100]: 100%|██████████| 357/357 [00:01<00:00, 256.06it/s]\n",
            "[Epoch (val) 7/100]: 100%|██████████| 90/90 [00:00<00:00, 501.28it/s]\n",
            "[Epoch (train) 8/100]: 100%|██████████| 357/357 [00:01<00:00, 185.10it/s]\n",
            "[Epoch (val) 8/100]: 100%|██████████| 90/90 [00:00<00:00, 425.29it/s]\n"
          ]
        },
        {
          "output_type": "stream",
          "name": "stdout",
          "text": [
            "EarlyStopping counter: 1 out of 5\n"
          ]
        },
        {
          "output_type": "stream",
          "name": "stderr",
          "text": [
            "[Epoch (train) 9/100]: 100%|██████████| 357/357 [00:01<00:00, 192.26it/s]\n",
            "[Epoch (val) 9/100]: 100%|██████████| 90/90 [00:00<00:00, 604.39it/s]\n"
          ]
        },
        {
          "output_type": "stream",
          "name": "stdout",
          "text": [
            "EarlyStopping counter: 2 out of 5\n"
          ]
        },
        {
          "output_type": "stream",
          "name": "stderr",
          "text": [
            "[Epoch (train) 10/100]: 100%|██████████| 357/357 [00:01<00:00, 247.59it/s]\n",
            "[Epoch (val) 10/100]: 100%|██████████| 90/90 [00:00<00:00, 640.89it/s]\n",
            "[Epoch (train) 11/100]: 100%|██████████| 357/357 [00:01<00:00, 255.29it/s]\n",
            "[Epoch (val) 11/100]: 100%|██████████| 90/90 [00:00<00:00, 536.16it/s]\n"
          ]
        },
        {
          "output_type": "stream",
          "name": "stdout",
          "text": [
            "EarlyStopping counter: 1 out of 5\n"
          ]
        },
        {
          "output_type": "stream",
          "name": "stderr",
          "text": [
            "[Epoch (train) 12/100]: 100%|██████████| 357/357 [00:01<00:00, 258.76it/s]\n",
            "[Epoch (val) 12/100]: 100%|██████████| 90/90 [00:00<00:00, 620.47it/s]\n"
          ]
        },
        {
          "output_type": "stream",
          "name": "stdout",
          "text": [
            "EarlyStopping counter: 2 out of 5\n"
          ]
        },
        {
          "output_type": "stream",
          "name": "stderr",
          "text": [
            "[Epoch (train) 13/100]: 100%|██████████| 357/357 [00:01<00:00, 246.72it/s]\n",
            "[Epoch (val) 13/100]: 100%|██████████| 90/90 [00:00<00:00, 635.42it/s]\n"
          ]
        },
        {
          "output_type": "stream",
          "name": "stdout",
          "text": [
            "EarlyStopping counter: 3 out of 5\n"
          ]
        },
        {
          "output_type": "stream",
          "name": "stderr",
          "text": [
            "[Epoch (train) 14/100]: 100%|██████████| 357/357 [00:01<00:00, 256.82it/s]\n",
            "[Epoch (val) 14/100]: 100%|██████████| 90/90 [00:00<00:00, 593.47it/s]\n"
          ]
        },
        {
          "output_type": "stream",
          "name": "stdout",
          "text": [
            "EarlyStopping counter: 4 out of 5\n"
          ]
        },
        {
          "output_type": "stream",
          "name": "stderr",
          "text": [
            "[Epoch (train) 15/100]: 100%|██████████| 357/357 [00:01<00:00, 254.48it/s]\n",
            "[Epoch (val) 15/100]: 100%|██████████| 90/90 [00:00<00:00, 595.02it/s]\n"
          ]
        },
        {
          "output_type": "stream",
          "name": "stdout",
          "text": [
            "EarlyStopping counter: 5 out of 5\n",
            "==========================\n",
            "train end period:  202104\n",
            "balanced_train_labels:  (29754,)\n",
            "balanced_train_features:  (29754, 12, 3)\n"
          ]
        },
        {
          "output_type": "stream",
          "name": "stderr",
          "text": [
            "[Epoch (train) 1/100]: 100%|██████████| 372/372 [00:02<00:00, 180.96it/s]\n",
            "[Epoch (val) 1/100]: 100%|██████████| 93/93 [00:00<00:00, 506.41it/s]\n",
            "[Epoch (train) 2/100]: 100%|██████████| 372/372 [00:01<00:00, 258.66it/s]\n",
            "[Epoch (val) 2/100]: 100%|██████████| 93/93 [00:00<00:00, 559.78it/s]\n",
            "[Epoch (train) 3/100]: 100%|██████████| 372/372 [00:01<00:00, 257.90it/s]\n",
            "[Epoch (val) 3/100]: 100%|██████████| 93/93 [00:00<00:00, 646.46it/s]\n"
          ]
        },
        {
          "output_type": "stream",
          "name": "stdout",
          "text": [
            "EarlyStopping counter: 1 out of 5\n"
          ]
        },
        {
          "output_type": "stream",
          "name": "stderr",
          "text": [
            "[Epoch (train) 4/100]: 100%|██████████| 372/372 [00:01<00:00, 251.16it/s]\n",
            "[Epoch (val) 4/100]: 100%|██████████| 93/93 [00:00<00:00, 633.11it/s]\n"
          ]
        },
        {
          "output_type": "stream",
          "name": "stdout",
          "text": [
            "EarlyStopping counter: 2 out of 5\n"
          ]
        },
        {
          "output_type": "stream",
          "name": "stderr",
          "text": [
            "[Epoch (train) 5/100]: 100%|██████████| 372/372 [00:01<00:00, 250.33it/s]\n",
            "[Epoch (val) 5/100]: 100%|██████████| 93/93 [00:00<00:00, 636.24it/s]\n",
            "[Epoch (train) 6/100]: 100%|██████████| 372/372 [00:01<00:00, 224.90it/s]\n",
            "[Epoch (val) 6/100]: 100%|██████████| 93/93 [00:00<00:00, 624.66it/s]\n"
          ]
        },
        {
          "output_type": "stream",
          "name": "stdout",
          "text": [
            "EarlyStopping counter: 1 out of 5\n"
          ]
        },
        {
          "output_type": "stream",
          "name": "stderr",
          "text": [
            "[Epoch (train) 7/100]: 100%|██████████| 372/372 [00:01<00:00, 254.00it/s]\n",
            "[Epoch (val) 7/100]: 100%|██████████| 93/93 [00:00<00:00, 525.39it/s]\n"
          ]
        },
        {
          "output_type": "stream",
          "name": "stdout",
          "text": [
            "EarlyStopping counter: 2 out of 5\n"
          ]
        },
        {
          "output_type": "stream",
          "name": "stderr",
          "text": [
            "[Epoch (train) 8/100]: 100%|██████████| 372/372 [00:01<00:00, 190.35it/s]\n",
            "[Epoch (val) 8/100]: 100%|██████████| 93/93 [00:00<00:00, 403.51it/s]\n"
          ]
        },
        {
          "output_type": "stream",
          "name": "stdout",
          "text": [
            "EarlyStopping counter: 3 out of 5\n"
          ]
        },
        {
          "output_type": "stream",
          "name": "stderr",
          "text": [
            "[Epoch (train) 9/100]: 100%|██████████| 372/372 [00:01<00:00, 194.37it/s]\n",
            "[Epoch (val) 9/100]: 100%|██████████| 93/93 [00:00<00:00, 603.40it/s]\n"
          ]
        },
        {
          "output_type": "stream",
          "name": "stdout",
          "text": [
            "EarlyStopping counter: 4 out of 5\n"
          ]
        },
        {
          "output_type": "stream",
          "name": "stderr",
          "text": [
            "[Epoch (train) 10/100]: 100%|██████████| 372/372 [00:01<00:00, 250.71it/s]\n",
            "[Epoch (val) 10/100]: 100%|██████████| 93/93 [00:00<00:00, 616.18it/s]\n",
            "[Epoch (train) 11/100]: 100%|██████████| 372/372 [00:01<00:00, 247.04it/s]\n",
            "[Epoch (val) 11/100]: 100%|██████████| 93/93 [00:00<00:00, 557.15it/s]\n"
          ]
        },
        {
          "output_type": "stream",
          "name": "stdout",
          "text": [
            "EarlyStopping counter: 1 out of 5\n"
          ]
        },
        {
          "output_type": "stream",
          "name": "stderr",
          "text": [
            "[Epoch (train) 12/100]: 100%|██████████| 372/372 [00:01<00:00, 250.11it/s]\n",
            "[Epoch (val) 12/100]: 100%|██████████| 93/93 [00:00<00:00, 622.99it/s]\n"
          ]
        },
        {
          "output_type": "stream",
          "name": "stdout",
          "text": [
            "EarlyStopping counter: 2 out of 5\n"
          ]
        },
        {
          "output_type": "stream",
          "name": "stderr",
          "text": [
            "[Epoch (train) 13/100]: 100%|██████████| 372/372 [00:01<00:00, 257.81it/s]\n",
            "[Epoch (val) 13/100]: 100%|██████████| 93/93 [00:00<00:00, 624.98it/s]\n"
          ]
        },
        {
          "output_type": "stream",
          "name": "stdout",
          "text": [
            "EarlyStopping counter: 3 out of 5\n"
          ]
        },
        {
          "output_type": "stream",
          "name": "stderr",
          "text": [
            "[Epoch (train) 14/100]: 100%|██████████| 372/372 [00:01<00:00, 257.78it/s]\n",
            "[Epoch (val) 14/100]: 100%|██████████| 93/93 [00:00<00:00, 641.44it/s]\n"
          ]
        },
        {
          "output_type": "stream",
          "name": "stdout",
          "text": [
            "EarlyStopping counter: 4 out of 5\n"
          ]
        },
        {
          "output_type": "stream",
          "name": "stderr",
          "text": [
            "[Epoch (train) 15/100]: 100%|██████████| 372/372 [00:01<00:00, 228.61it/s]\n",
            "[Epoch (val) 15/100]: 100%|██████████| 93/93 [00:00<00:00, 407.25it/s]\n"
          ]
        },
        {
          "output_type": "stream",
          "name": "stdout",
          "text": [
            "EarlyStopping counter: 5 out of 5\n",
            "==========================\n",
            "train end period:  202105\n",
            "balanced_train_labels:  (32700,)\n",
            "balanced_train_features:  (32700, 12, 3)\n"
          ]
        },
        {
          "output_type": "stream",
          "name": "stderr",
          "text": [
            "[Epoch (train) 1/100]: 100%|██████████| 409/409 [00:02<00:00, 203.74it/s]\n",
            "[Epoch (val) 1/100]: 100%|██████████| 103/103 [00:00<00:00, 611.46it/s]\n",
            "[Epoch (train) 2/100]: 100%|██████████| 409/409 [00:01<00:00, 253.89it/s]\n",
            "[Epoch (val) 2/100]: 100%|██████████| 103/103 [00:00<00:00, 639.10it/s]\n"
          ]
        },
        {
          "output_type": "stream",
          "name": "stdout",
          "text": [
            "EarlyStopping counter: 1 out of 5\n"
          ]
        },
        {
          "output_type": "stream",
          "name": "stderr",
          "text": [
            "[Epoch (train) 3/100]: 100%|██████████| 409/409 [00:01<00:00, 252.94it/s]\n",
            "[Epoch (val) 3/100]: 100%|██████████| 103/103 [00:00<00:00, 648.55it/s]\n",
            "[Epoch (train) 4/100]: 100%|██████████| 409/409 [00:01<00:00, 253.26it/s]\n",
            "[Epoch (val) 4/100]: 100%|██████████| 103/103 [00:00<00:00, 640.18it/s]\n"
          ]
        },
        {
          "output_type": "stream",
          "name": "stdout",
          "text": [
            "EarlyStopping counter: 1 out of 5\n"
          ]
        },
        {
          "output_type": "stream",
          "name": "stderr",
          "text": [
            "[Epoch (train) 5/100]: 100%|██████████| 409/409 [00:01<00:00, 245.04it/s]\n",
            "[Epoch (val) 5/100]: 100%|██████████| 103/103 [00:00<00:00, 641.05it/s]\n"
          ]
        },
        {
          "output_type": "stream",
          "name": "stdout",
          "text": [
            "EarlyStopping counter: 2 out of 5\n"
          ]
        },
        {
          "output_type": "stream",
          "name": "stderr",
          "text": [
            "[Epoch (train) 6/100]: 100%|██████████| 409/409 [00:01<00:00, 251.66it/s]\n",
            "[Epoch (val) 6/100]: 100%|██████████| 103/103 [00:00<00:00, 544.59it/s]\n",
            "[Epoch (train) 7/100]: 100%|██████████| 409/409 [00:02<00:00, 183.09it/s]\n",
            "[Epoch (val) 7/100]: 100%|██████████| 103/103 [00:00<00:00, 413.74it/s]\n",
            "[Epoch (train) 8/100]: 100%|██████████| 409/409 [00:01<00:00, 209.00it/s]\n",
            "[Epoch (val) 8/100]: 100%|██████████| 103/103 [00:00<00:00, 631.96it/s]\n",
            "[Epoch (train) 9/100]: 100%|██████████| 409/409 [00:01<00:00, 249.29it/s]\n",
            "[Epoch (val) 9/100]: 100%|██████████| 103/103 [00:00<00:00, 607.89it/s]\n",
            "[Epoch (train) 10/100]: 100%|██████████| 409/409 [00:01<00:00, 244.58it/s]\n",
            "[Epoch (val) 10/100]: 100%|██████████| 103/103 [00:00<00:00, 632.49it/s]\n"
          ]
        },
        {
          "output_type": "stream",
          "name": "stdout",
          "text": [
            "EarlyStopping counter: 1 out of 5\n"
          ]
        },
        {
          "output_type": "stream",
          "name": "stderr",
          "text": [
            "[Epoch (train) 11/100]: 100%|██████████| 409/409 [00:01<00:00, 252.61it/s]\n",
            "[Epoch (val) 11/100]: 100%|██████████| 103/103 [00:00<00:00, 481.57it/s]\n",
            "[Epoch (train) 12/100]: 100%|██████████| 409/409 [00:01<00:00, 249.92it/s]\n",
            "[Epoch (val) 12/100]: 100%|██████████| 103/103 [00:00<00:00, 575.75it/s]\n",
            "[Epoch (train) 13/100]: 100%|██████████| 409/409 [00:01<00:00, 250.62it/s]\n",
            "[Epoch (val) 13/100]: 100%|██████████| 103/103 [00:00<00:00, 407.25it/s]\n"
          ]
        },
        {
          "output_type": "stream",
          "name": "stdout",
          "text": [
            "EarlyStopping counter: 1 out of 5\n"
          ]
        },
        {
          "output_type": "stream",
          "name": "stderr",
          "text": [
            "[Epoch (train) 14/100]: 100%|██████████| 409/409 [00:02<00:00, 187.66it/s]\n",
            "[Epoch (val) 14/100]: 100%|██████████| 103/103 [00:00<00:00, 401.71it/s]\n"
          ]
        },
        {
          "output_type": "stream",
          "name": "stdout",
          "text": [
            "EarlyStopping counter: 2 out of 5\n"
          ]
        },
        {
          "output_type": "stream",
          "name": "stderr",
          "text": [
            "[Epoch (train) 15/100]: 100%|██████████| 409/409 [00:01<00:00, 207.02it/s]\n",
            "[Epoch (val) 15/100]: 100%|██████████| 103/103 [00:00<00:00, 610.81it/s]\n"
          ]
        },
        {
          "output_type": "stream",
          "name": "stdout",
          "text": [
            "EarlyStopping counter: 3 out of 5\n"
          ]
        },
        {
          "output_type": "stream",
          "name": "stderr",
          "text": [
            "[Epoch (train) 16/100]: 100%|██████████| 409/409 [00:01<00:00, 250.08it/s]\n",
            "[Epoch (val) 16/100]: 100%|██████████| 103/103 [00:00<00:00, 580.76it/s]\n",
            "[Epoch (train) 17/100]: 100%|██████████| 409/409 [00:01<00:00, 248.65it/s]\n",
            "[Epoch (val) 17/100]: 100%|██████████| 103/103 [00:00<00:00, 589.64it/s]\n"
          ]
        },
        {
          "output_type": "stream",
          "name": "stdout",
          "text": [
            "EarlyStopping counter: 1 out of 5\n"
          ]
        },
        {
          "output_type": "stream",
          "name": "stderr",
          "text": [
            "[Epoch (train) 18/100]: 100%|██████████| 409/409 [00:01<00:00, 253.60it/s]\n",
            "[Epoch (val) 18/100]: 100%|██████████| 103/103 [00:00<00:00, 641.55it/s]\n"
          ]
        },
        {
          "output_type": "stream",
          "name": "stdout",
          "text": [
            "EarlyStopping counter: 2 out of 5\n"
          ]
        },
        {
          "output_type": "stream",
          "name": "stderr",
          "text": [
            "[Epoch (train) 19/100]: 100%|██████████| 409/409 [00:01<00:00, 252.97it/s]\n",
            "[Epoch (val) 19/100]: 100%|██████████| 103/103 [00:00<00:00, 606.69it/s]\n"
          ]
        },
        {
          "output_type": "stream",
          "name": "stdout",
          "text": [
            "EarlyStopping counter: 3 out of 5\n"
          ]
        },
        {
          "output_type": "stream",
          "name": "stderr",
          "text": [
            "[Epoch (train) 20/100]: 100%|██████████| 409/409 [00:01<00:00, 245.05it/s]\n",
            "[Epoch (val) 20/100]: 100%|██████████| 103/103 [00:00<00:00, 419.59it/s]\n"
          ]
        },
        {
          "output_type": "stream",
          "name": "stdout",
          "text": [
            "EarlyStopping counter: 4 out of 5\n"
          ]
        },
        {
          "output_type": "stream",
          "name": "stderr",
          "text": [
            "[Epoch (train) 21/100]: 100%|██████████| 409/409 [00:02<00:00, 189.06it/s]\n",
            "[Epoch (val) 21/100]: 100%|██████████| 103/103 [00:00<00:00, 407.47it/s]\n"
          ]
        },
        {
          "output_type": "stream",
          "name": "stdout",
          "text": [
            "EarlyStopping counter: 5 out of 5\n",
            "==========================\n",
            "train end period:  202106\n",
            "balanced_train_labels:  (34524,)\n",
            "balanced_train_features:  (34524, 12, 3)\n"
          ]
        },
        {
          "output_type": "stream",
          "name": "stderr",
          "text": [
            "[Epoch (train) 1/100]: 100%|██████████| 432/432 [00:01<00:00, 248.91it/s]\n",
            "[Epoch (val) 1/100]: 100%|██████████| 108/108 [00:00<00:00, 561.20it/s]\n",
            "[Epoch (train) 2/100]: 100%|██████████| 432/432 [00:01<00:00, 247.34it/s]\n",
            "[Epoch (val) 2/100]: 100%|██████████| 108/108 [00:00<00:00, 565.16it/s]\n"
          ]
        },
        {
          "output_type": "stream",
          "name": "stdout",
          "text": [
            "EarlyStopping counter: 1 out of 5\n"
          ]
        },
        {
          "output_type": "stream",
          "name": "stderr",
          "text": [
            "[Epoch (train) 3/100]: 100%|██████████| 432/432 [00:01<00:00, 248.37it/s]\n",
            "[Epoch (val) 3/100]: 100%|██████████| 108/108 [00:00<00:00, 640.45it/s]\n"
          ]
        },
        {
          "output_type": "stream",
          "name": "stdout",
          "text": [
            "EarlyStopping counter: 2 out of 5\n"
          ]
        },
        {
          "output_type": "stream",
          "name": "stderr",
          "text": [
            "[Epoch (train) 4/100]: 100%|██████████| 432/432 [00:01<00:00, 245.98it/s]\n",
            "[Epoch (val) 4/100]: 100%|██████████| 108/108 [00:00<00:00, 585.38it/s]\n",
            "[Epoch (train) 5/100]: 100%|██████████| 432/432 [00:01<00:00, 227.57it/s]\n",
            "[Epoch (val) 5/100]: 100%|██████████| 108/108 [00:00<00:00, 392.75it/s]\n",
            "[Epoch (train) 6/100]: 100%|██████████| 432/432 [00:02<00:00, 179.01it/s]\n",
            "[Epoch (val) 6/100]: 100%|██████████| 108/108 [00:00<00:00, 415.71it/s]\n"
          ]
        },
        {
          "output_type": "stream",
          "name": "stdout",
          "text": [
            "EarlyStopping counter: 1 out of 5\n"
          ]
        },
        {
          "output_type": "stream",
          "name": "stderr",
          "text": [
            "[Epoch (train) 7/100]: 100%|██████████| 432/432 [00:01<00:00, 217.08it/s]\n",
            "[Epoch (val) 7/100]: 100%|██████████| 108/108 [00:00<00:00, 602.23it/s]\n",
            "[Epoch (train) 8/100]: 100%|██████████| 432/432 [00:01<00:00, 250.38it/s]\n",
            "[Epoch (val) 8/100]: 100%|██████████| 108/108 [00:00<00:00, 620.06it/s]\n",
            "[Epoch (train) 9/100]: 100%|██████████| 432/432 [00:01<00:00, 251.22it/s]\n",
            "[Epoch (val) 9/100]: 100%|██████████| 108/108 [00:00<00:00, 593.32it/s]\n"
          ]
        },
        {
          "output_type": "stream",
          "name": "stdout",
          "text": [
            "EarlyStopping counter: 1 out of 5\n"
          ]
        },
        {
          "output_type": "stream",
          "name": "stderr",
          "text": [
            "[Epoch (train) 10/100]: 100%|██████████| 432/432 [00:01<00:00, 242.48it/s]\n",
            "[Epoch (val) 10/100]: 100%|██████████| 108/108 [00:00<00:00, 586.14it/s]\n"
          ]
        },
        {
          "output_type": "stream",
          "name": "stdout",
          "text": [
            "EarlyStopping counter: 2 out of 5\n"
          ]
        },
        {
          "output_type": "stream",
          "name": "stderr",
          "text": [
            "[Epoch (train) 11/100]: 100%|██████████| 432/432 [00:01<00:00, 244.06it/s]\n",
            "[Epoch (val) 11/100]: 100%|██████████| 108/108 [00:00<00:00, 605.53it/s]\n"
          ]
        },
        {
          "output_type": "stream",
          "name": "stdout",
          "text": [
            "EarlyStopping counter: 3 out of 5\n"
          ]
        },
        {
          "output_type": "stream",
          "name": "stderr",
          "text": [
            "[Epoch (train) 12/100]: 100%|██████████| 432/432 [00:02<00:00, 193.72it/s]\n",
            "[Epoch (val) 12/100]: 100%|██████████| 108/108 [00:00<00:00, 410.24it/s]\n"
          ]
        },
        {
          "output_type": "stream",
          "name": "stdout",
          "text": [
            "EarlyStopping counter: 4 out of 5\n"
          ]
        },
        {
          "output_type": "stream",
          "name": "stderr",
          "text": [
            "[Epoch (train) 13/100]: 100%|██████████| 432/432 [00:02<00:00, 168.61it/s]\n",
            "[Epoch (val) 13/100]: 100%|██████████| 108/108 [00:00<00:00, 574.57it/s]\n"
          ]
        },
        {
          "output_type": "stream",
          "name": "stdout",
          "text": [
            "EarlyStopping counter: 5 out of 5\n",
            "==========================\n",
            "train end period:  202107\n",
            "balanced_train_labels:  (37368,)\n",
            "balanced_train_features:  (37368, 12, 3)\n"
          ]
        },
        {
          "output_type": "stream",
          "name": "stderr",
          "text": [
            "[Epoch (train) 1/100]: 100%|██████████| 468/468 [00:01<00:00, 250.08it/s]\n",
            "[Epoch (val) 1/100]: 100%|██████████| 117/117 [00:00<00:00, 611.61it/s]\n",
            "[Epoch (train) 2/100]: 100%|██████████| 468/468 [00:01<00:00, 248.63it/s]\n",
            "[Epoch (val) 2/100]: 100%|██████████| 117/117 [00:00<00:00, 611.41it/s]\n",
            "[Epoch (train) 3/100]: 100%|██████████| 468/468 [00:01<00:00, 246.46it/s]\n",
            "[Epoch (val) 3/100]: 100%|██████████| 117/117 [00:00<00:00, 599.67it/s]\n"
          ]
        },
        {
          "output_type": "stream",
          "name": "stdout",
          "text": [
            "EarlyStopping counter: 1 out of 5\n"
          ]
        },
        {
          "output_type": "stream",
          "name": "stderr",
          "text": [
            "[Epoch (train) 4/100]: 100%|██████████| 468/468 [00:01<00:00, 252.69it/s]\n",
            "[Epoch (val) 4/100]: 100%|██████████| 117/117 [00:00<00:00, 610.97it/s]\n"
          ]
        },
        {
          "output_type": "stream",
          "name": "stdout",
          "text": [
            "EarlyStopping counter: 2 out of 5\n"
          ]
        },
        {
          "output_type": "stream",
          "name": "stderr",
          "text": [
            "[Epoch (train) 5/100]: 100%|██████████| 468/468 [00:02<00:00, 178.27it/s]\n",
            "[Epoch (val) 5/100]: 100%|██████████| 117/117 [00:00<00:00, 406.31it/s]\n"
          ]
        },
        {
          "output_type": "stream",
          "name": "stdout",
          "text": [
            "EarlyStopping counter: 3 out of 5\n"
          ]
        },
        {
          "output_type": "stream",
          "name": "stderr",
          "text": [
            "[Epoch (train) 6/100]: 100%|██████████| 468/468 [00:02<00:00, 213.15it/s]\n",
            "[Epoch (val) 6/100]: 100%|██████████| 117/117 [00:00<00:00, 560.17it/s]\n"
          ]
        },
        {
          "output_type": "stream",
          "name": "stdout",
          "text": [
            "EarlyStopping counter: 4 out of 5\n"
          ]
        },
        {
          "output_type": "stream",
          "name": "stderr",
          "text": [
            "[Epoch (train) 7/100]: 100%|██████████| 468/468 [00:01<00:00, 251.83it/s]\n",
            "[Epoch (val) 7/100]: 100%|██████████| 117/117 [00:00<00:00, 519.14it/s]\n",
            "[Epoch (train) 8/100]: 100%|██████████| 468/468 [00:01<00:00, 245.99it/s]\n",
            "[Epoch (val) 8/100]: 100%|██████████| 117/117 [00:00<00:00, 590.40it/s]\n"
          ]
        },
        {
          "output_type": "stream",
          "name": "stdout",
          "text": [
            "EarlyStopping counter: 1 out of 5\n"
          ]
        },
        {
          "output_type": "stream",
          "name": "stderr",
          "text": [
            "[Epoch (train) 9/100]: 100%|██████████| 468/468 [00:01<00:00, 248.98it/s]\n",
            "[Epoch (val) 9/100]: 100%|██████████| 117/117 [00:00<00:00, 594.54it/s]\n"
          ]
        },
        {
          "output_type": "stream",
          "name": "stdout",
          "text": [
            "EarlyStopping counter: 2 out of 5\n"
          ]
        },
        {
          "output_type": "stream",
          "name": "stderr",
          "text": [
            "[Epoch (train) 10/100]: 100%|██████████| 468/468 [00:01<00:00, 246.38it/s]\n",
            "[Epoch (val) 10/100]: 100%|██████████| 117/117 [00:00<00:00, 597.80it/s]\n"
          ]
        },
        {
          "output_type": "stream",
          "name": "stdout",
          "text": [
            "EarlyStopping counter: 3 out of 5\n"
          ]
        },
        {
          "output_type": "stream",
          "name": "stderr",
          "text": [
            "[Epoch (train) 11/100]: 100%|██████████| 468/468 [00:02<00:00, 192.18it/s]\n",
            "[Epoch (val) 11/100]: 100%|██████████| 117/117 [00:00<00:00, 387.85it/s]\n"
          ]
        },
        {
          "output_type": "stream",
          "name": "stdout",
          "text": [
            "EarlyStopping counter: 4 out of 5\n"
          ]
        },
        {
          "output_type": "stream",
          "name": "stderr",
          "text": [
            "[Epoch (train) 12/100]: 100%|██████████| 468/468 [00:02<00:00, 194.00it/s]\n",
            "[Epoch (val) 12/100]: 100%|██████████| 117/117 [00:00<00:00, 602.11it/s]\n"
          ]
        },
        {
          "output_type": "stream",
          "name": "stdout",
          "text": [
            "EarlyStopping counter: 5 out of 5\n",
            "==========================\n",
            "train end period:  202108\n",
            "balanced_train_labels:  (39094,)\n",
            "balanced_train_features:  (39094, 12, 3)\n"
          ]
        },
        {
          "output_type": "stream",
          "name": "stderr",
          "text": [
            "[Epoch (train) 1/100]: 100%|██████████| 489/489 [00:02<00:00, 231.79it/s]\n",
            "[Epoch (val) 1/100]: 100%|██████████| 123/123 [00:00<00:00, 596.51it/s]\n",
            "[Epoch (train) 2/100]: 100%|██████████| 489/489 [00:02<00:00, 243.14it/s]\n",
            "[Epoch (val) 2/100]: 100%|██████████| 123/123 [00:00<00:00, 563.02it/s]\n"
          ]
        },
        {
          "output_type": "stream",
          "name": "stdout",
          "text": [
            "EarlyStopping counter: 1 out of 5\n"
          ]
        },
        {
          "output_type": "stream",
          "name": "stderr",
          "text": [
            "[Epoch (train) 3/100]: 100%|██████████| 489/489 [00:02<00:00, 244.24it/s]\n",
            "[Epoch (val) 3/100]: 100%|██████████| 123/123 [00:00<00:00, 556.85it/s]\n"
          ]
        },
        {
          "output_type": "stream",
          "name": "stdout",
          "text": [
            "EarlyStopping counter: 2 out of 5\n"
          ]
        },
        {
          "output_type": "stream",
          "name": "stderr",
          "text": [
            "[Epoch (train) 4/100]: 100%|██████████| 489/489 [00:02<00:00, 194.52it/s]\n",
            "[Epoch (val) 4/100]: 100%|██████████| 123/123 [00:00<00:00, 427.74it/s]\n",
            "[Epoch (train) 5/100]: 100%|██████████| 489/489 [00:02<00:00, 186.98it/s]\n",
            "[Epoch (val) 5/100]: 100%|██████████| 123/123 [00:00<00:00, 629.82it/s]\n",
            "[Epoch (train) 6/100]: 100%|██████████| 489/489 [00:01<00:00, 248.36it/s]\n",
            "[Epoch (val) 6/100]: 100%|██████████| 123/123 [00:00<00:00, 631.05it/s]\n",
            "[Epoch (train) 7/100]: 100%|██████████| 489/489 [00:01<00:00, 245.68it/s]\n",
            "[Epoch (val) 7/100]: 100%|██████████| 123/123 [00:00<00:00, 518.97it/s]\n"
          ]
        },
        {
          "output_type": "stream",
          "name": "stdout",
          "text": [
            "EarlyStopping counter: 1 out of 5\n"
          ]
        },
        {
          "output_type": "stream",
          "name": "stderr",
          "text": [
            "[Epoch (train) 8/100]: 100%|██████████| 489/489 [00:02<00:00, 242.84it/s]\n",
            "[Epoch (val) 8/100]: 100%|██████████| 123/123 [00:00<00:00, 615.68it/s]\n"
          ]
        },
        {
          "output_type": "stream",
          "name": "stdout",
          "text": [
            "EarlyStopping counter: 2 out of 5\n"
          ]
        },
        {
          "output_type": "stream",
          "name": "stderr",
          "text": [
            "[Epoch (train) 9/100]: 100%|██████████| 489/489 [00:02<00:00, 240.14it/s]\n",
            "[Epoch (val) 9/100]: 100%|██████████| 123/123 [00:00<00:00, 622.07it/s]\n",
            "[Epoch (train) 10/100]: 100%|██████████| 489/489 [00:02<00:00, 190.19it/s]\n",
            "[Epoch (val) 10/100]: 100%|██████████| 123/123 [00:00<00:00, 377.81it/s]\n",
            "[Epoch (train) 11/100]: 100%|██████████| 489/489 [00:02<00:00, 205.82it/s]\n",
            "[Epoch (val) 11/100]: 100%|██████████| 123/123 [00:00<00:00, 540.15it/s]\n",
            "[Epoch (train) 12/100]: 100%|██████████| 489/489 [00:01<00:00, 247.11it/s]\n",
            "[Epoch (val) 12/100]: 100%|██████████| 123/123 [00:00<00:00, 630.63it/s]\n"
          ]
        },
        {
          "output_type": "stream",
          "name": "stdout",
          "text": [
            "EarlyStopping counter: 1 out of 5\n"
          ]
        },
        {
          "output_type": "stream",
          "name": "stderr",
          "text": [
            "[Epoch (train) 13/100]: 100%|██████████| 489/489 [00:02<00:00, 243.12it/s]\n",
            "[Epoch (val) 13/100]: 100%|██████████| 123/123 [00:00<00:00, 600.56it/s]\n"
          ]
        },
        {
          "output_type": "stream",
          "name": "stdout",
          "text": [
            "EarlyStopping counter: 2 out of 5\n"
          ]
        },
        {
          "output_type": "stream",
          "name": "stderr",
          "text": [
            "[Epoch (train) 14/100]: 100%|██████████| 489/489 [00:01<00:00, 248.84it/s]\n",
            "[Epoch (val) 14/100]: 100%|██████████| 123/123 [00:00<00:00, 581.03it/s]\n"
          ]
        },
        {
          "output_type": "stream",
          "name": "stdout",
          "text": [
            "EarlyStopping counter: 3 out of 5\n"
          ]
        },
        {
          "output_type": "stream",
          "name": "stderr",
          "text": [
            "[Epoch (train) 15/100]: 100%|██████████| 489/489 [00:01<00:00, 252.10it/s]\n",
            "[Epoch (val) 15/100]: 100%|██████████| 123/123 [00:00<00:00, 569.38it/s]\n"
          ]
        },
        {
          "output_type": "stream",
          "name": "stdout",
          "text": [
            "EarlyStopping counter: 4 out of 5\n"
          ]
        },
        {
          "output_type": "stream",
          "name": "stderr",
          "text": [
            "[Epoch (train) 16/100]: 100%|██████████| 489/489 [00:02<00:00, 182.68it/s]\n",
            "[Epoch (val) 16/100]: 100%|██████████| 123/123 [00:00<00:00, 399.55it/s]\n"
          ]
        },
        {
          "output_type": "stream",
          "name": "stdout",
          "text": [
            "EarlyStopping counter: 5 out of 5\n",
            "==========================\n",
            "train end period:  202109\n",
            "balanced_train_labels:  (41244,)\n",
            "balanced_train_features:  (41244, 12, 3)\n"
          ]
        },
        {
          "output_type": "stream",
          "name": "stderr",
          "text": [
            "[Epoch (train) 1/100]: 100%|██████████| 516/516 [00:02<00:00, 246.55it/s]\n",
            "[Epoch (val) 1/100]: 100%|██████████| 129/129 [00:00<00:00, 542.25it/s]\n",
            "[Epoch (train) 2/100]: 100%|██████████| 516/516 [00:02<00:00, 251.09it/s]\n",
            "[Epoch (val) 2/100]: 100%|██████████| 129/129 [00:00<00:00, 615.96it/s]\n",
            "[Epoch (train) 3/100]: 100%|██████████| 516/516 [00:02<00:00, 248.25it/s]\n",
            "[Epoch (val) 3/100]: 100%|██████████| 129/129 [00:00<00:00, 571.24it/s]\n"
          ]
        },
        {
          "output_type": "stream",
          "name": "stdout",
          "text": [
            "EarlyStopping counter: 1 out of 5\n"
          ]
        },
        {
          "output_type": "stream",
          "name": "stderr",
          "text": [
            "[Epoch (train) 4/100]: 100%|██████████| 516/516 [00:02<00:00, 252.29it/s]\n",
            "[Epoch (val) 4/100]: 100%|██████████| 129/129 [00:00<00:00, 541.27it/s]\n",
            "[Epoch (train) 5/100]: 100%|██████████| 516/516 [00:02<00:00, 180.52it/s]\n",
            "[Epoch (val) 5/100]: 100%|██████████| 129/129 [00:00<00:00, 368.05it/s]\n",
            "[Epoch (train) 6/100]: 100%|██████████| 516/516 [00:02<00:00, 232.16it/s]\n",
            "[Epoch (val) 6/100]: 100%|██████████| 129/129 [00:00<00:00, 586.74it/s]\n"
          ]
        },
        {
          "output_type": "stream",
          "name": "stdout",
          "text": [
            "EarlyStopping counter: 1 out of 5\n"
          ]
        },
        {
          "output_type": "stream",
          "name": "stderr",
          "text": [
            "[Epoch (train) 7/100]: 100%|██████████| 516/516 [00:02<00:00, 241.61it/s]\n",
            "[Epoch (val) 7/100]: 100%|██████████| 129/129 [00:00<00:00, 580.09it/s]\n",
            "[Epoch (train) 8/100]: 100%|██████████| 516/516 [00:02<00:00, 246.27it/s]\n",
            "[Epoch (val) 8/100]: 100%|██████████| 129/129 [00:00<00:00, 591.01it/s]\n"
          ]
        },
        {
          "output_type": "stream",
          "name": "stdout",
          "text": [
            "EarlyStopping counter: 1 out of 5\n"
          ]
        },
        {
          "output_type": "stream",
          "name": "stderr",
          "text": [
            "[Epoch (train) 9/100]: 100%|██████████| 516/516 [00:02<00:00, 240.67it/s]\n",
            "[Epoch (val) 9/100]: 100%|██████████| 129/129 [00:00<00:00, 575.17it/s]\n",
            "[Epoch (train) 10/100]: 100%|██████████| 516/516 [00:02<00:00, 202.73it/s]\n",
            "[Epoch (val) 10/100]: 100%|██████████| 129/129 [00:00<00:00, 444.25it/s]\n"
          ]
        },
        {
          "output_type": "stream",
          "name": "stdout",
          "text": [
            "EarlyStopping counter: 1 out of 5\n"
          ]
        },
        {
          "output_type": "stream",
          "name": "stderr",
          "text": [
            "[Epoch (train) 11/100]: 100%|██████████| 516/516 [00:02<00:00, 192.72it/s]\n",
            "[Epoch (val) 11/100]: 100%|██████████| 129/129 [00:00<00:00, 610.08it/s]\n"
          ]
        },
        {
          "output_type": "stream",
          "name": "stdout",
          "text": [
            "EarlyStopping counter: 2 out of 5\n"
          ]
        },
        {
          "output_type": "stream",
          "name": "stderr",
          "text": [
            "[Epoch (train) 12/100]: 100%|██████████| 516/516 [00:02<00:00, 247.36it/s]\n",
            "[Epoch (val) 12/100]: 100%|██████████| 129/129 [00:00<00:00, 589.46it/s]\n",
            "[Epoch (train) 13/100]: 100%|██████████| 516/516 [00:02<00:00, 243.54it/s]\n",
            "[Epoch (val) 13/100]: 100%|██████████| 129/129 [00:00<00:00, 526.82it/s]\n"
          ]
        },
        {
          "output_type": "stream",
          "name": "stdout",
          "text": [
            "EarlyStopping counter: 1 out of 5\n"
          ]
        },
        {
          "output_type": "stream",
          "name": "stderr",
          "text": [
            "[Epoch (train) 14/100]: 100%|██████████| 516/516 [00:02<00:00, 229.22it/s]\n",
            "[Epoch (val) 14/100]: 100%|██████████| 129/129 [00:00<00:00, 606.15it/s]\n"
          ]
        },
        {
          "output_type": "stream",
          "name": "stdout",
          "text": [
            "EarlyStopping counter: 2 out of 5\n"
          ]
        },
        {
          "output_type": "stream",
          "name": "stderr",
          "text": [
            "[Epoch (train) 15/100]: 100%|██████████| 516/516 [00:02<00:00, 223.95it/s]\n",
            "[Epoch (val) 15/100]: 100%|██████████| 129/129 [00:00<00:00, 423.44it/s]\n",
            "[Epoch (train) 16/100]: 100%|██████████| 516/516 [00:02<00:00, 176.49it/s]\n",
            "[Epoch (val) 16/100]: 100%|██████████| 129/129 [00:00<00:00, 455.22it/s]\n"
          ]
        },
        {
          "output_type": "stream",
          "name": "stdout",
          "text": [
            "EarlyStopping counter: 1 out of 5\n"
          ]
        },
        {
          "output_type": "stream",
          "name": "stderr",
          "text": [
            "[Epoch (train) 17/100]: 100%|██████████| 516/516 [00:02<00:00, 245.60it/s]\n",
            "[Epoch (val) 17/100]: 100%|██████████| 129/129 [00:00<00:00, 596.60it/s]\n"
          ]
        },
        {
          "output_type": "stream",
          "name": "stdout",
          "text": [
            "EarlyStopping counter: 2 out of 5\n"
          ]
        },
        {
          "output_type": "stream",
          "name": "stderr",
          "text": [
            "[Epoch (train) 18/100]: 100%|██████████| 516/516 [00:02<00:00, 246.77it/s]\n",
            "[Epoch (val) 18/100]: 100%|██████████| 129/129 [00:00<00:00, 580.49it/s]\n"
          ]
        },
        {
          "output_type": "stream",
          "name": "stdout",
          "text": [
            "EarlyStopping counter: 3 out of 5\n"
          ]
        },
        {
          "output_type": "stream",
          "name": "stderr",
          "text": [
            "[Epoch (train) 19/100]: 100%|██████████| 516/516 [00:02<00:00, 245.93it/s]\n",
            "[Epoch (val) 19/100]: 100%|██████████| 129/129 [00:00<00:00, 591.12it/s]\n"
          ]
        },
        {
          "output_type": "stream",
          "name": "stdout",
          "text": [
            "EarlyStopping counter: 4 out of 5\n"
          ]
        },
        {
          "output_type": "stream",
          "name": "stderr",
          "text": [
            "[Epoch (train) 20/100]: 100%|██████████| 516/516 [00:02<00:00, 251.68it/s]\n",
            "[Epoch (val) 20/100]: 100%|██████████| 129/129 [00:00<00:00, 568.52it/s]\n"
          ]
        },
        {
          "output_type": "stream",
          "name": "stdout",
          "text": [
            "EarlyStopping counter: 5 out of 5\n",
            "==========================\n",
            "train end period:  202110\n",
            "balanced_train_labels:  (42462,)\n",
            "balanced_train_features:  (42462, 12, 3)\n"
          ]
        },
        {
          "output_type": "stream",
          "name": "stderr",
          "text": [
            "[Epoch (train) 1/100]: 100%|██████████| 531/531 [00:02<00:00, 185.41it/s]\n",
            "[Epoch (val) 1/100]: 100%|██████████| 133/133 [00:00<00:00, 586.79it/s]\n",
            "[Epoch (train) 2/100]: 100%|██████████| 531/531 [00:02<00:00, 247.73it/s]\n",
            "[Epoch (val) 2/100]: 100%|██████████| 133/133 [00:00<00:00, 614.04it/s]\n",
            "[Epoch (train) 3/100]: 100%|██████████| 531/531 [00:02<00:00, 247.04it/s]\n",
            "[Epoch (val) 3/100]: 100%|██████████| 133/133 [00:00<00:00, 599.45it/s]\n",
            "[Epoch (train) 4/100]: 100%|██████████| 531/531 [00:02<00:00, 248.43it/s]\n",
            "[Epoch (val) 4/100]: 100%|██████████| 133/133 [00:00<00:00, 594.37it/s]\n"
          ]
        },
        {
          "output_type": "stream",
          "name": "stdout",
          "text": [
            "EarlyStopping counter: 1 out of 5\n"
          ]
        },
        {
          "output_type": "stream",
          "name": "stderr",
          "text": [
            "[Epoch (train) 5/100]: 100%|██████████| 531/531 [00:02<00:00, 244.93it/s]\n",
            "[Epoch (val) 5/100]: 100%|██████████| 133/133 [00:00<00:00, 610.22it/s]\n",
            "[Epoch (train) 6/100]: 100%|██████████| 531/531 [00:02<00:00, 178.79it/s]\n",
            "[Epoch (val) 6/100]: 100%|██████████| 133/133 [00:00<00:00, 391.32it/s]\n",
            "[Epoch (train) 7/100]: 100%|██████████| 531/531 [00:02<00:00, 228.83it/s]\n",
            "[Epoch (val) 7/100]: 100%|██████████| 133/133 [00:00<00:00, 627.07it/s]\n",
            "[Epoch (train) 8/100]: 100%|██████████| 531/531 [00:02<00:00, 255.41it/s]\n",
            "[Epoch (val) 8/100]: 100%|██████████| 133/133 [00:00<00:00, 631.73it/s]\n"
          ]
        },
        {
          "output_type": "stream",
          "name": "stdout",
          "text": [
            "EarlyStopping counter: 1 out of 5\n"
          ]
        },
        {
          "output_type": "stream",
          "name": "stderr",
          "text": [
            "[Epoch (train) 9/100]: 100%|██████████| 531/531 [00:02<00:00, 250.81it/s]\n",
            "[Epoch (val) 9/100]: 100%|██████████| 133/133 [00:00<00:00, 555.98it/s]\n"
          ]
        },
        {
          "output_type": "stream",
          "name": "stdout",
          "text": [
            "EarlyStopping counter: 2 out of 5\n"
          ]
        },
        {
          "output_type": "stream",
          "name": "stderr",
          "text": [
            "[Epoch (train) 10/100]: 100%|██████████| 531/531 [00:02<00:00, 251.82it/s]\n",
            "[Epoch (val) 10/100]: 100%|██████████| 133/133 [00:00<00:00, 592.49it/s]\n"
          ]
        },
        {
          "output_type": "stream",
          "name": "stdout",
          "text": [
            "EarlyStopping counter: 3 out of 5\n"
          ]
        },
        {
          "output_type": "stream",
          "name": "stderr",
          "text": [
            "[Epoch (train) 11/100]: 100%|██████████| 531/531 [00:02<00:00, 211.54it/s]\n",
            "[Epoch (val) 11/100]: 100%|██████████| 133/133 [00:00<00:00, 458.97it/s]\n"
          ]
        },
        {
          "output_type": "stream",
          "name": "stdout",
          "text": [
            "EarlyStopping counter: 4 out of 5\n"
          ]
        },
        {
          "output_type": "stream",
          "name": "stderr",
          "text": [
            "[Epoch (train) 12/100]: 100%|██████████| 531/531 [00:02<00:00, 201.09it/s]\n",
            "[Epoch (val) 12/100]: 100%|██████████| 133/133 [00:00<00:00, 645.88it/s]\n",
            "[Epoch (train) 13/100]: 100%|██████████| 531/531 [00:02<00:00, 254.16it/s]\n",
            "[Epoch (val) 13/100]: 100%|██████████| 133/133 [00:00<00:00, 612.48it/s]\n"
          ]
        },
        {
          "output_type": "stream",
          "name": "stdout",
          "text": [
            "EarlyStopping counter: 1 out of 5\n"
          ]
        },
        {
          "output_type": "stream",
          "name": "stderr",
          "text": [
            "[Epoch (train) 14/100]: 100%|██████████| 531/531 [00:02<00:00, 254.18it/s]\n",
            "[Epoch (val) 14/100]: 100%|██████████| 133/133 [00:00<00:00, 585.53it/s]\n",
            "[Epoch (train) 15/100]: 100%|██████████| 531/531 [00:02<00:00, 249.65it/s]\n",
            "[Epoch (val) 15/100]: 100%|██████████| 133/133 [00:00<00:00, 618.81it/s]\n",
            "[Epoch (train) 16/100]: 100%|██████████| 531/531 [00:02<00:00, 243.21it/s]\n",
            "[Epoch (val) 16/100]: 100%|██████████| 133/133 [00:00<00:00, 447.81it/s]\n"
          ]
        },
        {
          "output_type": "stream",
          "name": "stdout",
          "text": [
            "EarlyStopping counter: 1 out of 5\n"
          ]
        },
        {
          "output_type": "stream",
          "name": "stderr",
          "text": [
            "[Epoch (train) 17/100]: 100%|██████████| 531/531 [00:02<00:00, 187.87it/s]\n",
            "[Epoch (val) 17/100]: 100%|██████████| 133/133 [00:00<00:00, 410.16it/s]\n"
          ]
        },
        {
          "output_type": "stream",
          "name": "stdout",
          "text": [
            "EarlyStopping counter: 2 out of 5\n"
          ]
        },
        {
          "output_type": "stream",
          "name": "stderr",
          "text": [
            "[Epoch (train) 18/100]: 100%|██████████| 531/531 [00:02<00:00, 242.97it/s]\n",
            "[Epoch (val) 18/100]: 100%|██████████| 133/133 [00:00<00:00, 600.78it/s]\n"
          ]
        },
        {
          "output_type": "stream",
          "name": "stdout",
          "text": [
            "EarlyStopping counter: 3 out of 5\n"
          ]
        },
        {
          "output_type": "stream",
          "name": "stderr",
          "text": [
            "[Epoch (train) 19/100]: 100%|██████████| 531/531 [00:02<00:00, 251.02it/s]\n",
            "[Epoch (val) 19/100]: 100%|██████████| 133/133 [00:00<00:00, 608.22it/s]\n"
          ]
        },
        {
          "output_type": "stream",
          "name": "stdout",
          "text": [
            "EarlyStopping counter: 4 out of 5\n"
          ]
        },
        {
          "output_type": "stream",
          "name": "stderr",
          "text": [
            "[Epoch (train) 20/100]: 100%|██████████| 531/531 [00:02<00:00, 251.20it/s]\n",
            "[Epoch (val) 20/100]: 100%|██████████| 133/133 [00:00<00:00, 586.59it/s]\n",
            "[Epoch (train) 21/100]: 100%|██████████| 531/531 [00:02<00:00, 255.70it/s]\n",
            "[Epoch (val) 21/100]: 100%|██████████| 133/133 [00:00<00:00, 595.74it/s]\n"
          ]
        },
        {
          "output_type": "stream",
          "name": "stdout",
          "text": [
            "EarlyStopping counter: 1 out of 5\n"
          ]
        },
        {
          "output_type": "stream",
          "name": "stderr",
          "text": [
            "[Epoch (train) 22/100]: 100%|██████████| 531/531 [00:02<00:00, 198.36it/s]\n",
            "[Epoch (val) 22/100]: 100%|██████████| 133/133 [00:00<00:00, 455.39it/s]\n"
          ]
        },
        {
          "output_type": "stream",
          "name": "stdout",
          "text": [
            "EarlyStopping counter: 2 out of 5\n"
          ]
        },
        {
          "output_type": "stream",
          "name": "stderr",
          "text": [
            "[Epoch (train) 23/100]: 100%|██████████| 531/531 [00:02<00:00, 200.05it/s]\n",
            "[Epoch (val) 23/100]: 100%|██████████| 133/133 [00:00<00:00, 623.44it/s]\n"
          ]
        },
        {
          "output_type": "stream",
          "name": "stdout",
          "text": [
            "EarlyStopping counter: 3 out of 5\n"
          ]
        },
        {
          "output_type": "stream",
          "name": "stderr",
          "text": [
            "[Epoch (train) 24/100]: 100%|██████████| 531/531 [00:02<00:00, 246.71it/s]\n",
            "[Epoch (val) 24/100]: 100%|██████████| 133/133 [00:00<00:00, 617.10it/s]\n"
          ]
        },
        {
          "output_type": "stream",
          "name": "stdout",
          "text": [
            "EarlyStopping counter: 4 out of 5\n"
          ]
        },
        {
          "output_type": "stream",
          "name": "stderr",
          "text": [
            "[Epoch (train) 25/100]: 100%|██████████| 531/531 [00:02<00:00, 245.80it/s]\n",
            "[Epoch (val) 25/100]: 100%|██████████| 133/133 [00:00<00:00, 564.63it/s]\n",
            "[Epoch (train) 26/100]: 100%|██████████| 531/531 [00:02<00:00, 244.11it/s]\n",
            "[Epoch (val) 26/100]: 100%|██████████| 133/133 [00:00<00:00, 587.15it/s]\n"
          ]
        },
        {
          "output_type": "stream",
          "name": "stdout",
          "text": [
            "EarlyStopping counter: 1 out of 5\n"
          ]
        },
        {
          "output_type": "stream",
          "name": "stderr",
          "text": [
            "[Epoch (train) 27/100]: 100%|██████████| 531/531 [00:02<00:00, 222.77it/s]\n",
            "[Epoch (val) 27/100]: 100%|██████████| 133/133 [00:00<00:00, 376.81it/s]\n"
          ]
        },
        {
          "output_type": "stream",
          "name": "stdout",
          "text": [
            "EarlyStopping counter: 2 out of 5\n"
          ]
        },
        {
          "output_type": "stream",
          "name": "stderr",
          "text": [
            "[Epoch (train) 28/100]: 100%|██████████| 531/531 [00:02<00:00, 180.05it/s]\n",
            "[Epoch (val) 28/100]: 100%|██████████| 133/133 [00:00<00:00, 604.56it/s]\n",
            "[Epoch (train) 29/100]: 100%|██████████| 531/531 [00:02<00:00, 244.19it/s]\n",
            "[Epoch (val) 29/100]: 100%|██████████| 133/133 [00:00<00:00, 581.77it/s]\n",
            "[Epoch (train) 30/100]: 100%|██████████| 531/531 [00:02<00:00, 250.20it/s]\n",
            "[Epoch (val) 30/100]: 100%|██████████| 133/133 [00:00<00:00, 554.90it/s]\n",
            "[Epoch (train) 31/100]: 100%|██████████| 531/531 [00:02<00:00, 246.72it/s]\n",
            "[Epoch (val) 31/100]: 100%|██████████| 133/133 [00:00<00:00, 626.08it/s]\n"
          ]
        },
        {
          "output_type": "stream",
          "name": "stdout",
          "text": [
            "EarlyStopping counter: 1 out of 5\n"
          ]
        },
        {
          "output_type": "stream",
          "name": "stderr",
          "text": [
            "[Epoch (train) 32/100]: 100%|██████████| 531/531 [00:02<00:00, 255.17it/s]\n",
            "[Epoch (val) 32/100]: 100%|██████████| 133/133 [00:00<00:00, 632.98it/s]\n"
          ]
        },
        {
          "output_type": "stream",
          "name": "stdout",
          "text": [
            "EarlyStopping counter: 2 out of 5\n"
          ]
        },
        {
          "output_type": "stream",
          "name": "stderr",
          "text": [
            "[Epoch (train) 33/100]: 100%|██████████| 531/531 [00:02<00:00, 181.62it/s]\n",
            "[Epoch (val) 33/100]: 100%|██████████| 133/133 [00:00<00:00, 384.26it/s]\n"
          ]
        },
        {
          "output_type": "stream",
          "name": "stdout",
          "text": [
            "EarlyStopping counter: 3 out of 5\n"
          ]
        },
        {
          "output_type": "stream",
          "name": "stderr",
          "text": [
            "[Epoch (train) 34/100]: 100%|██████████| 531/531 [00:02<00:00, 235.18it/s]\n",
            "[Epoch (val) 34/100]: 100%|██████████| 133/133 [00:00<00:00, 600.74it/s]\n"
          ]
        },
        {
          "output_type": "stream",
          "name": "stdout",
          "text": [
            "EarlyStopping counter: 4 out of 5\n"
          ]
        },
        {
          "output_type": "stream",
          "name": "stderr",
          "text": [
            "[Epoch (train) 35/100]: 100%|██████████| 531/531 [00:02<00:00, 250.92it/s]\n",
            "[Epoch (val) 35/100]: 100%|██████████| 133/133 [00:00<00:00, 619.42it/s]\n"
          ]
        },
        {
          "output_type": "stream",
          "name": "stdout",
          "text": [
            "EarlyStopping counter: 5 out of 5\n",
            "==========================\n",
            "train end period:  202111\n",
            "balanced_train_labels:  (42914,)\n",
            "balanced_train_features:  (42914, 12, 3)\n"
          ]
        },
        {
          "output_type": "stream",
          "name": "stderr",
          "text": [
            "[Epoch (train) 1/100]: 100%|██████████| 537/537 [00:02<00:00, 252.34it/s]\n",
            "[Epoch (val) 1/100]: 100%|██████████| 135/135 [00:00<00:00, 603.37it/s]\n",
            "[Epoch (train) 2/100]: 100%|██████████| 537/537 [00:02<00:00, 222.33it/s]\n",
            "[Epoch (val) 2/100]: 100%|██████████| 135/135 [00:00<00:00, 406.99it/s]\n",
            "[Epoch (train) 3/100]: 100%|██████████| 537/537 [00:02<00:00, 192.44it/s]\n",
            "[Epoch (val) 3/100]: 100%|██████████| 135/135 [00:00<00:00, 580.90it/s]\n"
          ]
        },
        {
          "output_type": "stream",
          "name": "stdout",
          "text": [
            "EarlyStopping counter: 1 out of 5\n"
          ]
        },
        {
          "output_type": "stream",
          "name": "stderr",
          "text": [
            "[Epoch (train) 4/100]: 100%|██████████| 537/537 [00:02<00:00, 251.37it/s]\n",
            "[Epoch (val) 4/100]: 100%|██████████| 135/135 [00:00<00:00, 621.10it/s]\n",
            "[Epoch (train) 5/100]: 100%|██████████| 537/537 [00:02<00:00, 247.68it/s]\n",
            "[Epoch (val) 5/100]: 100%|██████████| 135/135 [00:00<00:00, 621.85it/s]\n",
            "[Epoch (train) 6/100]: 100%|██████████| 537/537 [00:02<00:00, 252.70it/s]\n",
            "[Epoch (val) 6/100]: 100%|██████████| 135/135 [00:00<00:00, 593.92it/s]\n",
            "[Epoch (train) 7/100]: 100%|██████████| 537/537 [00:02<00:00, 254.76it/s]\n",
            "[Epoch (val) 7/100]: 100%|██████████| 135/135 [00:00<00:00, 421.26it/s]\n"
          ]
        },
        {
          "output_type": "stream",
          "name": "stdout",
          "text": [
            "EarlyStopping counter: 1 out of 5\n"
          ]
        },
        {
          "output_type": "stream",
          "name": "stderr",
          "text": [
            "[Epoch (train) 8/100]: 100%|██████████| 537/537 [00:02<00:00, 184.76it/s]\n",
            "[Epoch (val) 8/100]: 100%|██████████| 135/135 [00:00<00:00, 386.32it/s]\n",
            "[Epoch (train) 9/100]: 100%|██████████| 537/537 [00:02<00:00, 238.12it/s]\n",
            "[Epoch (val) 9/100]: 100%|██████████| 135/135 [00:00<00:00, 555.79it/s]\n",
            "[Epoch (train) 10/100]: 100%|██████████| 537/537 [00:02<00:00, 252.45it/s]\n",
            "[Epoch (val) 10/100]: 100%|██████████| 135/135 [00:00<00:00, 623.57it/s]\n"
          ]
        },
        {
          "output_type": "stream",
          "name": "stdout",
          "text": [
            "EarlyStopping counter: 1 out of 5\n"
          ]
        },
        {
          "output_type": "stream",
          "name": "stderr",
          "text": [
            "[Epoch (train) 11/100]: 100%|██████████| 537/537 [00:02<00:00, 251.97it/s]\n",
            "[Epoch (val) 11/100]: 100%|██████████| 135/135 [00:00<00:00, 600.69it/s]\n"
          ]
        },
        {
          "output_type": "stream",
          "name": "stdout",
          "text": [
            "EarlyStopping counter: 2 out of 5\n"
          ]
        },
        {
          "output_type": "stream",
          "name": "stderr",
          "text": [
            "[Epoch (train) 12/100]: 100%|██████████| 537/537 [00:02<00:00, 253.90it/s]\n",
            "[Epoch (val) 12/100]: 100%|██████████| 135/135 [00:00<00:00, 627.40it/s]\n"
          ]
        },
        {
          "output_type": "stream",
          "name": "stdout",
          "text": [
            "EarlyStopping counter: 3 out of 5\n"
          ]
        },
        {
          "output_type": "stream",
          "name": "stderr",
          "text": [
            "[Epoch (train) 13/100]: 100%|██████████| 537/537 [00:02<00:00, 203.63it/s]\n",
            "[Epoch (val) 13/100]: 100%|██████████| 135/135 [00:00<00:00, 483.30it/s]\n"
          ]
        },
        {
          "output_type": "stream",
          "name": "stdout",
          "text": [
            "EarlyStopping counter: 4 out of 5\n"
          ]
        },
        {
          "output_type": "stream",
          "name": "stderr",
          "text": [
            "[Epoch (train) 14/100]: 100%|██████████| 537/537 [00:02<00:00, 204.62it/s]\n",
            "[Epoch (val) 14/100]: 100%|██████████| 135/135 [00:00<00:00, 623.24it/s]\n"
          ]
        },
        {
          "output_type": "stream",
          "name": "stdout",
          "text": [
            "EarlyStopping counter: 5 out of 5\n",
            "==========================\n",
            "train end period:  202112\n",
            "balanced_train_labels:  (43068,)\n",
            "balanced_train_features:  (43068, 12, 3)\n"
          ]
        },
        {
          "output_type": "stream",
          "name": "stderr",
          "text": [
            "[Epoch (train) 1/100]: 100%|██████████| 539/539 [00:02<00:00, 251.90it/s]\n",
            "[Epoch (val) 1/100]: 100%|██████████| 135/135 [00:00<00:00, 615.68it/s]\n",
            "[Epoch (train) 2/100]: 100%|██████████| 539/539 [00:02<00:00, 256.48it/s]\n",
            "[Epoch (val) 2/100]: 100%|██████████| 135/135 [00:00<00:00, 596.94it/s]\n",
            "[Epoch (train) 3/100]: 100%|██████████| 539/539 [00:02<00:00, 252.45it/s]\n",
            "[Epoch (val) 3/100]: 100%|██████████| 135/135 [00:00<00:00, 576.34it/s]\n",
            "[Epoch (train) 4/100]: 100%|██████████| 539/539 [00:02<00:00, 183.53it/s]\n",
            "[Epoch (val) 4/100]: 100%|██████████| 135/135 [00:00<00:00, 402.62it/s]\n"
          ]
        },
        {
          "output_type": "stream",
          "name": "stdout",
          "text": [
            "EarlyStopping counter: 1 out of 5\n"
          ]
        },
        {
          "output_type": "stream",
          "name": "stderr",
          "text": [
            "[Epoch (train) 5/100]: 100%|██████████| 539/539 [00:02<00:00, 234.74it/s]\n",
            "[Epoch (val) 5/100]: 100%|██████████| 135/135 [00:00<00:00, 610.70it/s]\n"
          ]
        },
        {
          "output_type": "stream",
          "name": "stdout",
          "text": [
            "EarlyStopping counter: 2 out of 5\n"
          ]
        },
        {
          "output_type": "stream",
          "name": "stderr",
          "text": [
            "[Epoch (train) 6/100]: 100%|██████████| 539/539 [00:02<00:00, 245.41it/s]\n",
            "[Epoch (val) 6/100]: 100%|██████████| 135/135 [00:00<00:00, 610.17it/s]\n"
          ]
        },
        {
          "output_type": "stream",
          "name": "stdout",
          "text": [
            "EarlyStopping counter: 3 out of 5\n"
          ]
        },
        {
          "output_type": "stream",
          "name": "stderr",
          "text": [
            "[Epoch (train) 7/100]: 100%|██████████| 539/539 [00:02<00:00, 250.87it/s]\n",
            "[Epoch (val) 7/100]: 100%|██████████| 135/135 [00:00<00:00, 581.85it/s]\n",
            "[Epoch (train) 8/100]: 100%|██████████| 539/539 [00:02<00:00, 249.62it/s]\n",
            "[Epoch (val) 8/100]: 100%|██████████| 135/135 [00:00<00:00, 587.01it/s]\n",
            "[Epoch (train) 9/100]: 100%|██████████| 539/539 [00:02<00:00, 207.21it/s]\n",
            "[Epoch (val) 9/100]: 100%|██████████| 135/135 [00:00<00:00, 430.99it/s]\n"
          ]
        },
        {
          "output_type": "stream",
          "name": "stdout",
          "text": [
            "EarlyStopping counter: 1 out of 5\n"
          ]
        },
        {
          "output_type": "stream",
          "name": "stderr",
          "text": [
            "[Epoch (train) 10/100]: 100%|██████████| 539/539 [00:02<00:00, 201.95it/s]\n",
            "[Epoch (val) 10/100]: 100%|██████████| 135/135 [00:00<00:00, 568.47it/s]\n",
            "[Epoch (train) 11/100]: 100%|██████████| 539/539 [00:02<00:00, 247.67it/s]\n",
            "[Epoch (val) 11/100]: 100%|██████████| 135/135 [00:00<00:00, 602.60it/s]\n"
          ]
        },
        {
          "output_type": "stream",
          "name": "stdout",
          "text": [
            "EarlyStopping counter: 1 out of 5\n"
          ]
        },
        {
          "output_type": "stream",
          "name": "stderr",
          "text": [
            "[Epoch (train) 12/100]: 100%|██████████| 539/539 [00:02<00:00, 252.05it/s]\n",
            "[Epoch (val) 12/100]: 100%|██████████| 135/135 [00:00<00:00, 617.62it/s]\n"
          ]
        },
        {
          "output_type": "stream",
          "name": "stdout",
          "text": [
            "EarlyStopping counter: 2 out of 5\n"
          ]
        },
        {
          "output_type": "stream",
          "name": "stderr",
          "text": [
            "[Epoch (train) 13/100]: 100%|██████████| 539/539 [00:02<00:00, 249.42it/s]\n",
            "[Epoch (val) 13/100]: 100%|██████████| 135/135 [00:00<00:00, 569.08it/s]\n"
          ]
        },
        {
          "output_type": "stream",
          "name": "stdout",
          "text": [
            "EarlyStopping counter: 3 out of 5\n"
          ]
        },
        {
          "output_type": "stream",
          "name": "stderr",
          "text": [
            "[Epoch (train) 14/100]: 100%|██████████| 539/539 [00:02<00:00, 223.29it/s]\n",
            "[Epoch (val) 14/100]: 100%|██████████| 135/135 [00:00<00:00, 392.60it/s]\n"
          ]
        },
        {
          "output_type": "stream",
          "name": "stdout",
          "text": [
            "EarlyStopping counter: 4 out of 5\n"
          ]
        },
        {
          "output_type": "stream",
          "name": "stderr",
          "text": [
            "[Epoch (train) 15/100]: 100%|██████████| 539/539 [00:02<00:00, 184.74it/s]\n",
            "[Epoch (val) 15/100]: 100%|██████████| 135/135 [00:00<00:00, 569.28it/s]\n"
          ]
        },
        {
          "output_type": "stream",
          "name": "stdout",
          "text": [
            "EarlyStopping counter: 5 out of 5\n",
            "==========================\n",
            "train end period:  202201\n",
            "balanced_train_labels:  (43682,)\n",
            "balanced_train_features:  (43682, 12, 3)\n"
          ]
        },
        {
          "output_type": "stream",
          "name": "stderr",
          "text": [
            "[Epoch (train) 1/100]: 100%|██████████| 547/547 [00:02<00:00, 252.26it/s]\n",
            "[Epoch (val) 1/100]: 100%|██████████| 137/137 [00:00<00:00, 567.49it/s]\n",
            "[Epoch (train) 2/100]: 100%|██████████| 547/547 [00:02<00:00, 245.03it/s]\n",
            "[Epoch (val) 2/100]: 100%|██████████| 137/137 [00:00<00:00, 578.02it/s]\n",
            "[Epoch (train) 3/100]: 100%|██████████| 547/547 [00:02<00:00, 245.02it/s]\n",
            "[Epoch (val) 3/100]: 100%|██████████| 137/137 [00:00<00:00, 556.22it/s]\n",
            "[Epoch (train) 4/100]: 100%|██████████| 547/547 [00:02<00:00, 190.86it/s]\n",
            "[Epoch (val) 4/100]: 100%|██████████| 137/137 [00:00<00:00, 396.68it/s]\n"
          ]
        },
        {
          "output_type": "stream",
          "name": "stdout",
          "text": [
            "EarlyStopping counter: 1 out of 5\n"
          ]
        },
        {
          "output_type": "stream",
          "name": "stderr",
          "text": [
            "[Epoch (train) 5/100]: 100%|██████████| 547/547 [00:02<00:00, 213.13it/s]\n",
            "[Epoch (val) 5/100]: 100%|██████████| 137/137 [00:00<00:00, 546.35it/s]\n"
          ]
        },
        {
          "output_type": "stream",
          "name": "stdout",
          "text": [
            "EarlyStopping counter: 2 out of 5\n"
          ]
        },
        {
          "output_type": "stream",
          "name": "stderr",
          "text": [
            "[Epoch (train) 6/100]: 100%|██████████| 547/547 [00:02<00:00, 245.89it/s]\n",
            "[Epoch (val) 6/100]: 100%|██████████| 137/137 [00:00<00:00, 599.03it/s]\n"
          ]
        },
        {
          "output_type": "stream",
          "name": "stdout",
          "text": [
            "EarlyStopping counter: 3 out of 5\n"
          ]
        },
        {
          "output_type": "stream",
          "name": "stderr",
          "text": [
            "[Epoch (train) 7/100]: 100%|██████████| 547/547 [00:02<00:00, 246.00it/s]\n",
            "[Epoch (val) 7/100]: 100%|██████████| 137/137 [00:00<00:00, 551.04it/s]\n",
            "[Epoch (train) 8/100]: 100%|██████████| 547/547 [00:02<00:00, 250.17it/s]\n",
            "[Epoch (val) 8/100]: 100%|██████████| 137/137 [00:00<00:00, 613.28it/s]\n",
            "[Epoch (train) 9/100]: 100%|██████████| 547/547 [00:02<00:00, 200.90it/s]\n",
            "[Epoch (val) 9/100]: 100%|██████████| 137/137 [00:00<00:00, 424.28it/s]\n"
          ]
        },
        {
          "output_type": "stream",
          "name": "stdout",
          "text": [
            "EarlyStopping counter: 1 out of 5\n"
          ]
        },
        {
          "output_type": "stream",
          "name": "stderr",
          "text": [
            "[Epoch (train) 10/100]: 100%|██████████| 547/547 [00:02<00:00, 188.01it/s]\n",
            "[Epoch (val) 10/100]: 100%|██████████| 137/137 [00:00<00:00, 585.73it/s]\n"
          ]
        },
        {
          "output_type": "stream",
          "name": "stdout",
          "text": [
            "EarlyStopping counter: 2 out of 5\n"
          ]
        },
        {
          "output_type": "stream",
          "name": "stderr",
          "text": [
            "[Epoch (train) 11/100]: 100%|██████████| 547/547 [00:02<00:00, 238.47it/s]\n",
            "[Epoch (val) 11/100]: 100%|██████████| 137/137 [00:00<00:00, 584.47it/s]\n"
          ]
        },
        {
          "output_type": "stream",
          "name": "stdout",
          "text": [
            "EarlyStopping counter: 3 out of 5\n"
          ]
        },
        {
          "output_type": "stream",
          "name": "stderr",
          "text": [
            "[Epoch (train) 12/100]: 100%|██████████| 547/547 [00:02<00:00, 243.17it/s]\n",
            "[Epoch (val) 12/100]: 100%|██████████| 137/137 [00:00<00:00, 571.36it/s]\n",
            "[Epoch (train) 13/100]: 100%|██████████| 547/547 [00:02<00:00, 242.22it/s]\n",
            "[Epoch (val) 13/100]: 100%|██████████| 137/137 [00:00<00:00, 571.84it/s]\n"
          ]
        },
        {
          "output_type": "stream",
          "name": "stdout",
          "text": [
            "EarlyStopping counter: 1 out of 5\n"
          ]
        },
        {
          "output_type": "stream",
          "name": "stderr",
          "text": [
            "[Epoch (train) 14/100]: 100%|██████████| 547/547 [00:02<00:00, 216.41it/s]\n",
            "[Epoch (val) 14/100]: 100%|██████████| 137/137 [00:00<00:00, 370.29it/s]\n"
          ]
        },
        {
          "output_type": "stream",
          "name": "stdout",
          "text": [
            "EarlyStopping counter: 2 out of 5\n"
          ]
        },
        {
          "output_type": "stream",
          "name": "stderr",
          "text": [
            "[Epoch (train) 15/100]: 100%|██████████| 547/547 [00:03<00:00, 178.62it/s]\n",
            "[Epoch (val) 15/100]: 100%|██████████| 137/137 [00:00<00:00, 591.73it/s]\n"
          ]
        },
        {
          "output_type": "stream",
          "name": "stdout",
          "text": [
            "EarlyStopping counter: 3 out of 5\n"
          ]
        },
        {
          "output_type": "stream",
          "name": "stderr",
          "text": [
            "[Epoch (train) 16/100]: 100%|██████████| 547/547 [00:02<00:00, 237.72it/s]\n",
            "[Epoch (val) 16/100]: 100%|██████████| 137/137 [00:00<00:00, 530.16it/s]\n",
            "[Epoch (train) 17/100]: 100%|██████████| 547/547 [00:02<00:00, 236.82it/s]\n",
            "[Epoch (val) 17/100]: 100%|██████████| 137/137 [00:00<00:00, 569.43it/s]\n"
          ]
        },
        {
          "output_type": "stream",
          "name": "stdout",
          "text": [
            "EarlyStopping counter: 1 out of 5\n"
          ]
        },
        {
          "output_type": "stream",
          "name": "stderr",
          "text": [
            "[Epoch (train) 18/100]: 100%|██████████| 547/547 [00:02<00:00, 231.91it/s]\n",
            "[Epoch (val) 18/100]: 100%|██████████| 137/137 [00:00<00:00, 557.55it/s]\n",
            "[Epoch (train) 19/100]: 100%|██████████| 547/547 [00:02<00:00, 217.67it/s]\n",
            "[Epoch (val) 19/100]: 100%|██████████| 137/137 [00:00<00:00, 379.31it/s]\n",
            "[Epoch (train) 20/100]: 100%|██████████| 547/547 [00:03<00:00, 180.20it/s]\n",
            "[Epoch (val) 20/100]: 100%|██████████| 137/137 [00:00<00:00, 570.42it/s]\n"
          ]
        },
        {
          "output_type": "stream",
          "name": "stdout",
          "text": [
            "EarlyStopping counter: 1 out of 5\n"
          ]
        },
        {
          "output_type": "stream",
          "name": "stderr",
          "text": [
            "[Epoch (train) 21/100]: 100%|██████████| 547/547 [00:02<00:00, 241.45it/s]\n",
            "[Epoch (val) 21/100]: 100%|██████████| 137/137 [00:00<00:00, 579.03it/s]\n",
            "[Epoch (train) 22/100]: 100%|██████████| 547/547 [00:02<00:00, 224.91it/s]\n",
            "[Epoch (val) 22/100]: 100%|██████████| 137/137 [00:00<00:00, 606.66it/s]\n"
          ]
        },
        {
          "output_type": "stream",
          "name": "stdout",
          "text": [
            "EarlyStopping counter: 1 out of 5\n"
          ]
        },
        {
          "output_type": "stream",
          "name": "stderr",
          "text": [
            "[Epoch (train) 23/100]: 100%|██████████| 547/547 [00:02<00:00, 246.19it/s]\n",
            "[Epoch (val) 23/100]: 100%|██████████| 137/137 [00:00<00:00, 573.33it/s]\n"
          ]
        },
        {
          "output_type": "stream",
          "name": "stdout",
          "text": [
            "EarlyStopping counter: 2 out of 5\n"
          ]
        },
        {
          "output_type": "stream",
          "name": "stderr",
          "text": [
            "[Epoch (train) 24/100]: 100%|██████████| 547/547 [00:02<00:00, 225.73it/s]\n",
            "[Epoch (val) 24/100]: 100%|██████████| 137/137 [00:00<00:00, 433.49it/s]\n"
          ]
        },
        {
          "output_type": "stream",
          "name": "stdout",
          "text": [
            "EarlyStopping counter: 3 out of 5\n"
          ]
        },
        {
          "output_type": "stream",
          "name": "stderr",
          "text": [
            "[Epoch (train) 25/100]: 100%|██████████| 547/547 [00:03<00:00, 171.51it/s]\n",
            "[Epoch (val) 25/100]: 100%|██████████| 137/137 [00:00<00:00, 547.08it/s]\n"
          ]
        },
        {
          "output_type": "stream",
          "name": "stdout",
          "text": [
            "EarlyStopping counter: 4 out of 5\n"
          ]
        },
        {
          "output_type": "stream",
          "name": "stderr",
          "text": [
            "[Epoch (train) 26/100]: 100%|██████████| 547/547 [00:02<00:00, 244.12it/s]\n",
            "[Epoch (val) 26/100]: 100%|██████████| 137/137 [00:00<00:00, 578.74it/s]\n",
            "[Epoch (train) 27/100]: 100%|██████████| 547/547 [00:02<00:00, 242.26it/s]\n",
            "[Epoch (val) 27/100]: 100%|██████████| 137/137 [00:00<00:00, 593.09it/s]\n"
          ]
        },
        {
          "output_type": "stream",
          "name": "stdout",
          "text": [
            "EarlyStopping counter: 1 out of 5\n"
          ]
        },
        {
          "output_type": "stream",
          "name": "stderr",
          "text": [
            "[Epoch (train) 28/100]: 100%|██████████| 547/547 [00:02<00:00, 241.85it/s]\n",
            "[Epoch (val) 28/100]: 100%|██████████| 137/137 [00:00<00:00, 582.98it/s]\n"
          ]
        },
        {
          "output_type": "stream",
          "name": "stdout",
          "text": [
            "EarlyStopping counter: 2 out of 5\n"
          ]
        },
        {
          "output_type": "stream",
          "name": "stderr",
          "text": [
            "[Epoch (train) 29/100]: 100%|██████████| 547/547 [00:02<00:00, 237.59it/s]\n",
            "[Epoch (val) 29/100]: 100%|██████████| 137/137 [00:00<00:00, 408.04it/s]\n",
            "[Epoch (train) 30/100]: 100%|██████████| 547/547 [00:03<00:00, 178.27it/s]\n",
            "[Epoch (val) 30/100]: 100%|██████████| 137/137 [00:00<00:00, 363.85it/s]\n"
          ]
        },
        {
          "output_type": "stream",
          "name": "stdout",
          "text": [
            "EarlyStopping counter: 1 out of 5\n"
          ]
        },
        {
          "output_type": "stream",
          "name": "stderr",
          "text": [
            "[Epoch (train) 31/100]: 100%|██████████| 547/547 [00:02<00:00, 236.13it/s]\n",
            "[Epoch (val) 31/100]: 100%|██████████| 137/137 [00:00<00:00, 577.93it/s]\n"
          ]
        },
        {
          "output_type": "stream",
          "name": "stdout",
          "text": [
            "EarlyStopping counter: 2 out of 5\n"
          ]
        },
        {
          "output_type": "stream",
          "name": "stderr",
          "text": [
            "[Epoch (train) 32/100]: 100%|██████████| 547/547 [00:02<00:00, 239.88it/s]\n",
            "[Epoch (val) 32/100]: 100%|██████████| 137/137 [00:00<00:00, 563.01it/s]\n"
          ]
        },
        {
          "output_type": "stream",
          "name": "stdout",
          "text": [
            "EarlyStopping counter: 3 out of 5\n"
          ]
        },
        {
          "output_type": "stream",
          "name": "stderr",
          "text": [
            "[Epoch (train) 33/100]: 100%|██████████| 547/547 [00:02<00:00, 243.15it/s]\n",
            "[Epoch (val) 33/100]: 100%|██████████| 137/137 [00:00<00:00, 560.31it/s]\n"
          ]
        },
        {
          "output_type": "stream",
          "name": "stdout",
          "text": [
            "EarlyStopping counter: 4 out of 5\n"
          ]
        },
        {
          "output_type": "stream",
          "name": "stderr",
          "text": [
            "[Epoch (train) 34/100]: 100%|██████████| 547/547 [00:02<00:00, 244.06it/s]\n",
            "[Epoch (val) 34/100]: 100%|██████████| 137/137 [00:00<00:00, 510.25it/s]\n",
            "[Epoch (train) 35/100]: 100%|██████████| 547/547 [00:03<00:00, 178.02it/s]\n",
            "[Epoch (val) 35/100]: 100%|██████████| 137/137 [00:00<00:00, 385.73it/s]\n"
          ]
        },
        {
          "output_type": "stream",
          "name": "stdout",
          "text": [
            "EarlyStopping counter: 1 out of 5\n"
          ]
        },
        {
          "output_type": "stream",
          "name": "stderr",
          "text": [
            "[Epoch (train) 36/100]: 100%|██████████| 547/547 [00:02<00:00, 219.61it/s]\n",
            "[Epoch (val) 36/100]: 100%|██████████| 137/137 [00:00<00:00, 598.75it/s]\n"
          ]
        },
        {
          "output_type": "stream",
          "name": "stdout",
          "text": [
            "EarlyStopping counter: 2 out of 5\n"
          ]
        },
        {
          "output_type": "stream",
          "name": "stderr",
          "text": [
            "[Epoch (train) 37/100]: 100%|██████████| 547/547 [00:02<00:00, 243.88it/s]\n",
            "[Epoch (val) 37/100]: 100%|██████████| 137/137 [00:00<00:00, 592.30it/s]\n"
          ]
        },
        {
          "output_type": "stream",
          "name": "stdout",
          "text": [
            "EarlyStopping counter: 3 out of 5\n"
          ]
        },
        {
          "output_type": "stream",
          "name": "stderr",
          "text": [
            "[Epoch (train) 38/100]: 100%|██████████| 547/547 [00:02<00:00, 230.28it/s]\n",
            "[Epoch (val) 38/100]: 100%|██████████| 137/137 [00:00<00:00, 585.33it/s]\n"
          ]
        },
        {
          "output_type": "stream",
          "name": "stdout",
          "text": [
            "EarlyStopping counter: 4 out of 5\n"
          ]
        },
        {
          "output_type": "stream",
          "name": "stderr",
          "text": [
            "[Epoch (train) 39/100]: 100%|██████████| 547/547 [00:02<00:00, 236.87it/s]\n",
            "[Epoch (val) 39/100]: 100%|██████████| 137/137 [00:00<00:00, 587.37it/s]\n"
          ]
        },
        {
          "output_type": "stream",
          "name": "stdout",
          "text": [
            "EarlyStopping counter: 5 out of 5\n",
            "==========================\n",
            "train end period:  202202\n",
            "balanced_train_labels:  (43884,)\n",
            "balanced_train_features:  (43884, 12, 3)\n"
          ]
        },
        {
          "output_type": "stream",
          "name": "stderr",
          "text": [
            "[Epoch (train) 1/100]: 100%|██████████| 549/549 [00:02<00:00, 197.27it/s]\n",
            "[Epoch (val) 1/100]: 100%|██████████| 138/138 [00:00<00:00, 556.17it/s]\n",
            "[Epoch (train) 2/100]: 100%|██████████| 549/549 [00:02<00:00, 236.53it/s]\n",
            "[Epoch (val) 2/100]: 100%|██████████| 138/138 [00:00<00:00, 589.00it/s]\n",
            "[Epoch (train) 3/100]: 100%|██████████| 549/549 [00:02<00:00, 241.71it/s]\n",
            "[Epoch (val) 3/100]: 100%|██████████| 138/138 [00:00<00:00, 569.34it/s]\n",
            "[Epoch (train) 4/100]: 100%|██████████| 549/549 [00:02<00:00, 241.14it/s]\n",
            "[Epoch (val) 4/100]: 100%|██████████| 138/138 [00:00<00:00, 596.69it/s]\n"
          ]
        },
        {
          "output_type": "stream",
          "name": "stdout",
          "text": [
            "EarlyStopping counter: 1 out of 5\n"
          ]
        },
        {
          "output_type": "stream",
          "name": "stderr",
          "text": [
            "[Epoch (train) 5/100]: 100%|██████████| 549/549 [00:02<00:00, 206.67it/s]\n",
            "[Epoch (val) 5/100]: 100%|██████████| 138/138 [00:00<00:00, 421.67it/s]\n"
          ]
        },
        {
          "output_type": "stream",
          "name": "stdout",
          "text": [
            "EarlyStopping counter: 2 out of 5\n"
          ]
        },
        {
          "output_type": "stream",
          "name": "stderr",
          "text": [
            "[Epoch (train) 6/100]: 100%|██████████| 549/549 [00:02<00:00, 185.93it/s]\n",
            "[Epoch (val) 6/100]: 100%|██████████| 138/138 [00:00<00:00, 583.54it/s]\n"
          ]
        },
        {
          "output_type": "stream",
          "name": "stdout",
          "text": [
            "EarlyStopping counter: 3 out of 5\n"
          ]
        },
        {
          "output_type": "stream",
          "name": "stderr",
          "text": [
            "[Epoch (train) 7/100]: 100%|██████████| 549/549 [00:02<00:00, 239.55it/s]\n",
            "[Epoch (val) 7/100]: 100%|██████████| 138/138 [00:00<00:00, 605.55it/s]\n"
          ]
        },
        {
          "output_type": "stream",
          "name": "stdout",
          "text": [
            "EarlyStopping counter: 4 out of 5\n"
          ]
        },
        {
          "output_type": "stream",
          "name": "stderr",
          "text": [
            "[Epoch (train) 8/100]: 100%|██████████| 549/549 [00:02<00:00, 244.35it/s]\n",
            "[Epoch (val) 8/100]: 100%|██████████| 138/138 [00:00<00:00, 562.00it/s]\n"
          ]
        },
        {
          "output_type": "stream",
          "name": "stdout",
          "text": [
            "EarlyStopping counter: 5 out of 5\n",
            "==========================\n",
            "train end period:  202203\n",
            "balanced_train_labels:  (44188,)\n",
            "balanced_train_features:  (44188, 12, 3)\n"
          ]
        },
        {
          "output_type": "stream",
          "name": "stderr",
          "text": [
            "[Epoch (train) 1/100]: 100%|██████████| 553/553 [00:02<00:00, 247.55it/s]\n",
            "[Epoch (val) 1/100]: 100%|██████████| 139/139 [00:00<00:00, 418.10it/s]\n",
            "[Epoch (train) 2/100]: 100%|██████████| 553/553 [00:03<00:00, 176.62it/s]\n",
            "[Epoch (val) 2/100]: 100%|██████████| 139/139 [00:00<00:00, 417.86it/s]\n",
            "[Epoch (train) 3/100]: 100%|██████████| 553/553 [00:02<00:00, 220.26it/s]\n",
            "[Epoch (val) 3/100]: 100%|██████████| 139/139 [00:00<00:00, 564.58it/s]\n"
          ]
        },
        {
          "output_type": "stream",
          "name": "stdout",
          "text": [
            "EarlyStopping counter: 1 out of 5\n"
          ]
        },
        {
          "output_type": "stream",
          "name": "stderr",
          "text": [
            "[Epoch (train) 4/100]: 100%|██████████| 553/553 [00:02<00:00, 239.11it/s]\n",
            "[Epoch (val) 4/100]: 100%|██████████| 139/139 [00:00<00:00, 563.45it/s]\n"
          ]
        },
        {
          "output_type": "stream",
          "name": "stdout",
          "text": [
            "EarlyStopping counter: 2 out of 5\n"
          ]
        },
        {
          "output_type": "stream",
          "name": "stderr",
          "text": [
            "[Epoch (train) 5/100]: 100%|██████████| 553/553 [00:02<00:00, 235.82it/s]\n",
            "[Epoch (val) 5/100]: 100%|██████████| 139/139 [00:00<00:00, 602.99it/s]\n",
            "[Epoch (train) 6/100]: 100%|██████████| 553/553 [00:02<00:00, 237.99it/s]\n",
            "[Epoch (val) 6/100]: 100%|██████████| 139/139 [00:00<00:00, 581.78it/s]\n",
            "[Epoch (train) 7/100]: 100%|██████████| 553/553 [00:03<00:00, 182.82it/s]\n",
            "[Epoch (val) 7/100]: 100%|██████████| 139/139 [00:00<00:00, 390.94it/s]\n"
          ]
        },
        {
          "output_type": "stream",
          "name": "stdout",
          "text": [
            "EarlyStopping counter: 1 out of 5\n"
          ]
        },
        {
          "output_type": "stream",
          "name": "stderr",
          "text": [
            "[Epoch (train) 8/100]: 100%|██████████| 553/553 [00:02<00:00, 216.17it/s]\n",
            "[Epoch (val) 8/100]: 100%|██████████| 139/139 [00:00<00:00, 591.23it/s]\n"
          ]
        },
        {
          "output_type": "stream",
          "name": "stdout",
          "text": [
            "EarlyStopping counter: 2 out of 5\n"
          ]
        },
        {
          "output_type": "stream",
          "name": "stderr",
          "text": [
            "[Epoch (train) 9/100]: 100%|██████████| 553/553 [00:02<00:00, 238.83it/s]\n",
            "[Epoch (val) 9/100]: 100%|██████████| 139/139 [00:00<00:00, 512.26it/s]\n",
            "[Epoch (train) 10/100]: 100%|██████████| 553/553 [00:02<00:00, 243.34it/s]\n",
            "[Epoch (val) 10/100]: 100%|██████████| 139/139 [00:00<00:00, 599.22it/s]\n"
          ]
        },
        {
          "output_type": "stream",
          "name": "stdout",
          "text": [
            "EarlyStopping counter: 1 out of 5\n"
          ]
        },
        {
          "output_type": "stream",
          "name": "stderr",
          "text": [
            "[Epoch (train) 11/100]: 100%|██████████| 553/553 [00:02<00:00, 243.73it/s]\n",
            "[Epoch (val) 11/100]: 100%|██████████| 139/139 [00:00<00:00, 539.94it/s]\n",
            "[Epoch (train) 12/100]: 100%|██████████| 553/553 [00:03<00:00, 183.16it/s]\n",
            "[Epoch (val) 12/100]: 100%|██████████| 139/139 [00:00<00:00, 374.23it/s]\n"
          ]
        },
        {
          "output_type": "stream",
          "name": "stdout",
          "text": [
            "EarlyStopping counter: 1 out of 5\n"
          ]
        },
        {
          "output_type": "stream",
          "name": "stderr",
          "text": [
            "[Epoch (train) 13/100]: 100%|██████████| 553/553 [00:02<00:00, 208.35it/s]\n",
            "[Epoch (val) 13/100]: 100%|██████████| 139/139 [00:00<00:00, 576.83it/s]\n"
          ]
        },
        {
          "output_type": "stream",
          "name": "stdout",
          "text": [
            "EarlyStopping counter: 2 out of 5\n"
          ]
        },
        {
          "output_type": "stream",
          "name": "stderr",
          "text": [
            "[Epoch (train) 14/100]: 100%|██████████| 553/553 [00:02<00:00, 240.87it/s]\n",
            "[Epoch (val) 14/100]: 100%|██████████| 139/139 [00:00<00:00, 571.53it/s]\n"
          ]
        },
        {
          "output_type": "stream",
          "name": "stdout",
          "text": [
            "EarlyStopping counter: 3 out of 5\n"
          ]
        },
        {
          "output_type": "stream",
          "name": "stderr",
          "text": [
            "[Epoch (train) 15/100]: 100%|██████████| 553/553 [00:02<00:00, 242.07it/s]\n",
            "[Epoch (val) 15/100]: 100%|██████████| 139/139 [00:00<00:00, 507.73it/s]\n"
          ]
        },
        {
          "output_type": "stream",
          "name": "stdout",
          "text": [
            "EarlyStopping counter: 4 out of 5\n"
          ]
        },
        {
          "output_type": "stream",
          "name": "stderr",
          "text": [
            "[Epoch (train) 16/100]: 100%|██████████| 553/553 [00:02<00:00, 240.68it/s]\n",
            "[Epoch (val) 16/100]: 100%|██████████| 139/139 [00:00<00:00, 567.07it/s]\n"
          ]
        },
        {
          "output_type": "stream",
          "name": "stdout",
          "text": [
            "EarlyStopping counter: 5 out of 5\n",
            "==========================\n",
            "train end period:  202204\n",
            "balanced_train_labels:  (46132,)\n",
            "balanced_train_features:  (46132, 12, 3)\n"
          ]
        },
        {
          "output_type": "stream",
          "name": "stderr",
          "text": [
            "[Epoch (train) 1/100]: 100%|██████████| 577/577 [00:03<00:00, 185.53it/s]\n",
            "[Epoch (val) 1/100]: 100%|██████████| 145/145 [00:00<00:00, 580.56it/s]\n",
            "[Epoch (train) 2/100]: 100%|██████████| 577/577 [00:02<00:00, 238.46it/s]\n",
            "[Epoch (val) 2/100]: 100%|██████████| 145/145 [00:00<00:00, 588.11it/s]\n",
            "[Epoch (train) 3/100]: 100%|██████████| 577/577 [00:02<00:00, 238.50it/s]\n",
            "[Epoch (val) 3/100]: 100%|██████████| 145/145 [00:00<00:00, 522.97it/s]\n"
          ]
        },
        {
          "output_type": "stream",
          "name": "stdout",
          "text": [
            "EarlyStopping counter: 1 out of 5\n"
          ]
        },
        {
          "output_type": "stream",
          "name": "stderr",
          "text": [
            "[Epoch (train) 4/100]: 100%|██████████| 577/577 [00:02<00:00, 244.73it/s]\n",
            "[Epoch (val) 4/100]: 100%|██████████| 145/145 [00:00<00:00, 621.42it/s]\n"
          ]
        },
        {
          "output_type": "stream",
          "name": "stdout",
          "text": [
            "EarlyStopping counter: 2 out of 5\n"
          ]
        },
        {
          "output_type": "stream",
          "name": "stderr",
          "text": [
            "[Epoch (train) 5/100]: 100%|██████████| 577/577 [00:02<00:00, 204.25it/s]\n",
            "[Epoch (val) 5/100]: 100%|██████████| 145/145 [00:00<00:00, 424.22it/s]\n"
          ]
        },
        {
          "output_type": "stream",
          "name": "stdout",
          "text": [
            "EarlyStopping counter: 3 out of 5\n"
          ]
        },
        {
          "output_type": "stream",
          "name": "stderr",
          "text": [
            "[Epoch (train) 6/100]: 100%|██████████| 577/577 [00:02<00:00, 203.51it/s]\n",
            "[Epoch (val) 6/100]: 100%|██████████| 145/145 [00:00<00:00, 616.42it/s]\n"
          ]
        },
        {
          "output_type": "stream",
          "name": "stdout",
          "text": [
            "EarlyStopping counter: 4 out of 5\n"
          ]
        },
        {
          "output_type": "stream",
          "name": "stderr",
          "text": [
            "[Epoch (train) 7/100]: 100%|██████████| 577/577 [00:02<00:00, 243.11it/s]\n",
            "[Epoch (val) 7/100]: 100%|██████████| 145/145 [00:00<00:00, 606.38it/s]\n",
            "[Epoch (train) 8/100]: 100%|██████████| 577/577 [00:02<00:00, 241.26it/s]\n",
            "[Epoch (val) 8/100]: 100%|██████████| 145/145 [00:00<00:00, 570.76it/s]\n",
            "[Epoch (train) 9/100]: 100%|██████████| 577/577 [00:02<00:00, 245.18it/s]\n",
            "[Epoch (val) 9/100]: 100%|██████████| 145/145 [00:00<00:00, 594.97it/s]\n"
          ]
        },
        {
          "output_type": "stream",
          "name": "stdout",
          "text": [
            "EarlyStopping counter: 1 out of 5\n"
          ]
        },
        {
          "output_type": "stream",
          "name": "stderr",
          "text": [
            "[Epoch (train) 10/100]: 100%|██████████| 577/577 [00:02<00:00, 194.34it/s]\n",
            "[Epoch (val) 10/100]: 100%|██████████| 145/145 [00:00<00:00, 381.97it/s]\n"
          ]
        },
        {
          "output_type": "stream",
          "name": "stdout",
          "text": [
            "EarlyStopping counter: 2 out of 5\n"
          ]
        },
        {
          "output_type": "stream",
          "name": "stderr",
          "text": [
            "[Epoch (train) 11/100]: 100%|██████████| 577/577 [00:02<00:00, 205.45it/s]\n",
            "[Epoch (val) 11/100]: 100%|██████████| 145/145 [00:00<00:00, 613.88it/s]\n"
          ]
        },
        {
          "output_type": "stream",
          "name": "stdout",
          "text": [
            "EarlyStopping counter: 3 out of 5\n"
          ]
        },
        {
          "output_type": "stream",
          "name": "stderr",
          "text": [
            "[Epoch (train) 12/100]: 100%|██████████| 577/577 [00:02<00:00, 240.48it/s]\n",
            "[Epoch (val) 12/100]: 100%|██████████| 145/145 [00:00<00:00, 578.41it/s]\n"
          ]
        },
        {
          "output_type": "stream",
          "name": "stdout",
          "text": [
            "EarlyStopping counter: 4 out of 5\n"
          ]
        },
        {
          "output_type": "stream",
          "name": "stderr",
          "text": [
            "[Epoch (train) 13/100]: 100%|██████████| 577/577 [00:02<00:00, 242.12it/s]\n",
            "[Epoch (val) 13/100]: 100%|██████████| 145/145 [00:00<00:00, 596.44it/s]\n"
          ]
        },
        {
          "output_type": "stream",
          "name": "stdout",
          "text": [
            "EarlyStopping counter: 5 out of 5\n",
            "==========================\n",
            "train end period:  202205\n",
            "balanced_train_labels:  (48496,)\n",
            "balanced_train_features:  (48496, 12, 3)\n"
          ]
        },
        {
          "output_type": "stream",
          "name": "stderr",
          "text": [
            "[Epoch (train) 1/100]: 100%|██████████| 607/607 [00:02<00:00, 210.15it/s]\n",
            "[Epoch (val) 1/100]: 100%|██████████| 152/152 [00:00<00:00, 425.54it/s]\n",
            "[Epoch (train) 2/100]: 100%|██████████| 607/607 [00:03<00:00, 199.02it/s]\n",
            "[Epoch (val) 2/100]: 100%|██████████| 152/152 [00:00<00:00, 608.19it/s]\n",
            "[Epoch (train) 3/100]: 100%|██████████| 607/607 [00:02<00:00, 239.23it/s]\n",
            "[Epoch (val) 3/100]: 100%|██████████| 152/152 [00:00<00:00, 611.27it/s]\n"
          ]
        },
        {
          "output_type": "stream",
          "name": "stdout",
          "text": [
            "EarlyStopping counter: 1 out of 5\n"
          ]
        },
        {
          "output_type": "stream",
          "name": "stderr",
          "text": [
            "[Epoch (train) 4/100]: 100%|██████████| 607/607 [00:02<00:00, 248.55it/s]\n",
            "[Epoch (val) 4/100]: 100%|██████████| 152/152 [00:00<00:00, 574.55it/s]\n"
          ]
        },
        {
          "output_type": "stream",
          "name": "stdout",
          "text": [
            "EarlyStopping counter: 2 out of 5\n"
          ]
        },
        {
          "output_type": "stream",
          "name": "stderr",
          "text": [
            "[Epoch (train) 5/100]: 100%|██████████| 607/607 [00:02<00:00, 244.39it/s]\n",
            "[Epoch (val) 5/100]: 100%|██████████| 152/152 [00:00<00:00, 579.81it/s]\n",
            "[Epoch (train) 6/100]: 100%|██████████| 607/607 [00:03<00:00, 177.97it/s]\n",
            "[Epoch (val) 6/100]: 100%|██████████| 152/152 [00:00<00:00, 411.54it/s]\n"
          ]
        },
        {
          "output_type": "stream",
          "name": "stdout",
          "text": [
            "EarlyStopping counter: 1 out of 5\n"
          ]
        },
        {
          "output_type": "stream",
          "name": "stderr",
          "text": [
            "[Epoch (train) 7/100]: 100%|██████████| 607/607 [00:02<00:00, 227.66it/s]\n",
            "[Epoch (val) 7/100]: 100%|██████████| 152/152 [00:00<00:00, 580.05it/s]\n"
          ]
        },
        {
          "output_type": "stream",
          "name": "stdout",
          "text": [
            "EarlyStopping counter: 2 out of 5\n"
          ]
        },
        {
          "output_type": "stream",
          "name": "stderr",
          "text": [
            "[Epoch (train) 8/100]: 100%|██████████| 607/607 [00:02<00:00, 246.23it/s]\n",
            "[Epoch (val) 8/100]: 100%|██████████| 152/152 [00:00<00:00, 591.33it/s]\n"
          ]
        },
        {
          "output_type": "stream",
          "name": "stdout",
          "text": [
            "EarlyStopping counter: 3 out of 5\n"
          ]
        },
        {
          "output_type": "stream",
          "name": "stderr",
          "text": [
            "[Epoch (train) 9/100]: 100%|██████████| 607/607 [00:02<00:00, 247.12it/s]\n",
            "[Epoch (val) 9/100]: 100%|██████████| 152/152 [00:00<00:00, 587.04it/s]\n",
            "[Epoch (train) 10/100]: 100%|██████████| 607/607 [00:02<00:00, 238.36it/s]\n",
            "[Epoch (val) 10/100]: 100%|██████████| 152/152 [00:00<00:00, 382.90it/s]\n",
            "[Epoch (train) 11/100]: 100%|██████████| 607/607 [00:03<00:00, 182.40it/s]\n",
            "[Epoch (val) 11/100]: 100%|██████████| 152/152 [00:00<00:00, 587.88it/s]\n"
          ]
        },
        {
          "output_type": "stream",
          "name": "stdout",
          "text": [
            "EarlyStopping counter: 1 out of 5\n"
          ]
        },
        {
          "output_type": "stream",
          "name": "stderr",
          "text": [
            "[Epoch (train) 12/100]: 100%|██████████| 607/607 [00:02<00:00, 247.81it/s]\n",
            "[Epoch (val) 12/100]: 100%|██████████| 152/152 [00:00<00:00, 604.44it/s]\n"
          ]
        },
        {
          "output_type": "stream",
          "name": "stdout",
          "text": [
            "EarlyStopping counter: 2 out of 5\n"
          ]
        },
        {
          "output_type": "stream",
          "name": "stderr",
          "text": [
            "[Epoch (train) 13/100]: 100%|██████████| 607/607 [00:02<00:00, 246.34it/s]\n",
            "[Epoch (val) 13/100]: 100%|██████████| 152/152 [00:00<00:00, 581.93it/s]\n",
            "[Epoch (train) 14/100]: 100%|██████████| 607/607 [00:02<00:00, 238.37it/s]\n",
            "[Epoch (val) 14/100]: 100%|██████████| 152/152 [00:00<00:00, 534.98it/s]\n",
            "[Epoch (train) 15/100]: 100%|██████████| 607/607 [00:02<00:00, 207.09it/s]\n",
            "[Epoch (val) 15/100]: 100%|██████████| 152/152 [00:00<00:00, 445.65it/s]\n"
          ]
        },
        {
          "output_type": "stream",
          "name": "stdout",
          "text": [
            "EarlyStopping counter: 1 out of 5\n"
          ]
        },
        {
          "output_type": "stream",
          "name": "stderr",
          "text": [
            "[Epoch (train) 16/100]: 100%|██████████| 607/607 [00:03<00:00, 197.87it/s]\n",
            "[Epoch (val) 16/100]: 100%|██████████| 152/152 [00:00<00:00, 568.10it/s]\n"
          ]
        },
        {
          "output_type": "stream",
          "name": "stdout",
          "text": [
            "EarlyStopping counter: 2 out of 5\n"
          ]
        },
        {
          "output_type": "stream",
          "name": "stderr",
          "text": [
            "[Epoch (train) 17/100]: 100%|██████████| 607/607 [00:02<00:00, 240.85it/s]\n",
            "[Epoch (val) 17/100]: 100%|██████████| 152/152 [00:00<00:00, 599.28it/s]\n",
            "[Epoch (train) 18/100]: 100%|██████████| 607/607 [00:02<00:00, 243.65it/s]\n",
            "[Epoch (val) 18/100]: 100%|██████████| 152/152 [00:00<00:00, 583.51it/s]\n"
          ]
        },
        {
          "output_type": "stream",
          "name": "stdout",
          "text": [
            "EarlyStopping counter: 1 out of 5\n"
          ]
        },
        {
          "output_type": "stream",
          "name": "stderr",
          "text": [
            "[Epoch (train) 19/100]: 100%|██████████| 607/607 [00:02<00:00, 244.88it/s]\n",
            "[Epoch (val) 19/100]: 100%|██████████| 152/152 [00:00<00:00, 573.69it/s]\n",
            "[Epoch (train) 20/100]: 100%|██████████| 607/607 [00:03<00:00, 183.82it/s]\n",
            "[Epoch (val) 20/100]: 100%|██████████| 152/152 [00:00<00:00, 401.50it/s]\n"
          ]
        },
        {
          "output_type": "stream",
          "name": "stdout",
          "text": [
            "EarlyStopping counter: 1 out of 5\n"
          ]
        },
        {
          "output_type": "stream",
          "name": "stderr",
          "text": [
            "[Epoch (train) 21/100]: 100%|██████████| 607/607 [00:02<00:00, 234.39it/s]\n",
            "[Epoch (val) 21/100]: 100%|██████████| 152/152 [00:00<00:00, 606.62it/s]\n",
            "[Epoch (train) 22/100]: 100%|██████████| 607/607 [00:02<00:00, 245.11it/s]\n",
            "[Epoch (val) 22/100]: 100%|██████████| 152/152 [00:00<00:00, 600.57it/s]\n"
          ]
        },
        {
          "output_type": "stream",
          "name": "stdout",
          "text": [
            "EarlyStopping counter: 1 out of 5\n"
          ]
        },
        {
          "output_type": "stream",
          "name": "stderr",
          "text": [
            "[Epoch (train) 23/100]: 100%|██████████| 607/607 [00:02<00:00, 248.73it/s]\n",
            "[Epoch (val) 23/100]: 100%|██████████| 152/152 [00:00<00:00, 574.52it/s]\n"
          ]
        },
        {
          "output_type": "stream",
          "name": "stdout",
          "text": [
            "EarlyStopping counter: 2 out of 5\n"
          ]
        },
        {
          "output_type": "stream",
          "name": "stderr",
          "text": [
            "[Epoch (train) 24/100]: 100%|██████████| 607/607 [00:02<00:00, 229.07it/s]\n",
            "[Epoch (val) 24/100]: 100%|██████████| 152/152 [00:00<00:00, 400.76it/s]\n"
          ]
        },
        {
          "output_type": "stream",
          "name": "stdout",
          "text": [
            "EarlyStopping counter: 3 out of 5\n"
          ]
        },
        {
          "output_type": "stream",
          "name": "stderr",
          "text": [
            "[Epoch (train) 25/100]: 100%|██████████| 607/607 [00:03<00:00, 183.30it/s]\n",
            "[Epoch (val) 25/100]: 100%|██████████| 152/152 [00:00<00:00, 592.65it/s]\n"
          ]
        },
        {
          "output_type": "stream",
          "name": "stdout",
          "text": [
            "EarlyStopping counter: 4 out of 5\n"
          ]
        },
        {
          "output_type": "stream",
          "name": "stderr",
          "text": [
            "[Epoch (train) 26/100]: 100%|██████████| 607/607 [00:02<00:00, 248.21it/s]\n",
            "[Epoch (val) 26/100]: 100%|██████████| 152/152 [00:00<00:00, 611.57it/s]\n"
          ]
        },
        {
          "output_type": "stream",
          "name": "stdout",
          "text": [
            "EarlyStopping counter: 5 out of 5\n",
            "==========================\n",
            "train end period:  202206\n",
            "balanced_train_labels:  (50582,)\n",
            "balanced_train_features:  (50582, 12, 3)\n"
          ]
        },
        {
          "output_type": "stream",
          "name": "stderr",
          "text": [
            "[Epoch (train) 1/100]: 100%|██████████| 633/633 [00:02<00:00, 250.06it/s]\n",
            "[Epoch (val) 1/100]: 100%|██████████| 159/159 [00:00<00:00, 599.23it/s]\n",
            "[Epoch (train) 2/100]: 100%|██████████| 633/633 [00:02<00:00, 213.62it/s]\n",
            "[Epoch (val) 2/100]: 100%|██████████| 159/159 [00:00<00:00, 431.58it/s]\n",
            "[Epoch (train) 3/100]: 100%|██████████| 633/633 [00:03<00:00, 194.65it/s]\n",
            "[Epoch (val) 3/100]: 100%|██████████| 159/159 [00:00<00:00, 606.56it/s]\n"
          ]
        },
        {
          "output_type": "stream",
          "name": "stdout",
          "text": [
            "EarlyStopping counter: 1 out of 5\n"
          ]
        },
        {
          "output_type": "stream",
          "name": "stderr",
          "text": [
            "[Epoch (train) 4/100]: 100%|██████████| 633/633 [00:02<00:00, 240.56it/s]\n",
            "[Epoch (val) 4/100]: 100%|██████████| 159/159 [00:00<00:00, 608.21it/s]\n"
          ]
        },
        {
          "output_type": "stream",
          "name": "stdout",
          "text": [
            "EarlyStopping counter: 2 out of 5\n"
          ]
        },
        {
          "output_type": "stream",
          "name": "stderr",
          "text": [
            "[Epoch (train) 5/100]: 100%|██████████| 633/633 [00:02<00:00, 239.25it/s]\n",
            "[Epoch (val) 5/100]: 100%|██████████| 159/159 [00:00<00:00, 574.21it/s]\n",
            "[Epoch (train) 6/100]: 100%|██████████| 633/633 [00:02<00:00, 246.43it/s]\n",
            "[Epoch (val) 6/100]: 100%|██████████| 159/159 [00:00<00:00, 575.85it/s]\n"
          ]
        },
        {
          "output_type": "stream",
          "name": "stdout",
          "text": [
            "EarlyStopping counter: 1 out of 5\n"
          ]
        },
        {
          "output_type": "stream",
          "name": "stderr",
          "text": [
            "[Epoch (train) 7/100]: 100%|██████████| 633/633 [00:03<00:00, 179.13it/s]\n",
            "[Epoch (val) 7/100]: 100%|██████████| 159/159 [00:00<00:00, 366.96it/s]\n"
          ]
        },
        {
          "output_type": "stream",
          "name": "stdout",
          "text": [
            "EarlyStopping counter: 2 out of 5\n"
          ]
        },
        {
          "output_type": "stream",
          "name": "stderr",
          "text": [
            "[Epoch (train) 8/100]: 100%|██████████| 633/633 [00:02<00:00, 237.58it/s]\n",
            "[Epoch (val) 8/100]: 100%|██████████| 159/159 [00:00<00:00, 562.67it/s]\n"
          ]
        },
        {
          "output_type": "stream",
          "name": "stdout",
          "text": [
            "EarlyStopping counter: 3 out of 5\n"
          ]
        },
        {
          "output_type": "stream",
          "name": "stderr",
          "text": [
            "[Epoch (train) 9/100]: 100%|██████████| 633/633 [00:02<00:00, 246.99it/s]\n",
            "[Epoch (val) 9/100]: 100%|██████████| 159/159 [00:00<00:00, 603.51it/s]\n"
          ]
        },
        {
          "output_type": "stream",
          "name": "stdout",
          "text": [
            "EarlyStopping counter: 4 out of 5\n"
          ]
        },
        {
          "output_type": "stream",
          "name": "stderr",
          "text": [
            "[Epoch (train) 10/100]: 100%|██████████| 633/633 [00:02<00:00, 240.49it/s]\n",
            "[Epoch (val) 10/100]: 100%|██████████| 159/159 [00:00<00:00, 580.11it/s]\n"
          ]
        },
        {
          "output_type": "stream",
          "name": "stdout",
          "text": [
            "EarlyStopping counter: 5 out of 5\n",
            "==========================\n",
            "train end period:  202207\n",
            "balanced_train_labels:  (53140,)\n",
            "balanced_train_features:  (53140, 12, 3)\n"
          ]
        },
        {
          "output_type": "stream",
          "name": "stderr",
          "text": [
            "[Epoch (train) 1/100]: 100%|██████████| 665/665 [00:03<00:00, 177.36it/s]\n",
            "[Epoch (val) 1/100]: 100%|██████████| 167/167 [00:00<00:00, 530.70it/s]\n",
            "[Epoch (train) 2/100]: 100%|██████████| 665/665 [00:02<00:00, 243.12it/s]\n",
            "[Epoch (val) 2/100]: 100%|██████████| 167/167 [00:00<00:00, 618.09it/s]\n",
            "[Epoch (train) 3/100]: 100%|██████████| 665/665 [00:02<00:00, 244.79it/s]\n",
            "[Epoch (val) 3/100]: 100%|██████████| 167/167 [00:00<00:00, 624.57it/s]\n",
            "[Epoch (train) 4/100]: 100%|██████████| 665/665 [00:02<00:00, 241.21it/s]\n",
            "[Epoch (val) 4/100]: 100%|██████████| 167/167 [00:00<00:00, 611.05it/s]\n"
          ]
        },
        {
          "output_type": "stream",
          "name": "stdout",
          "text": [
            "EarlyStopping counter: 1 out of 5\n"
          ]
        },
        {
          "output_type": "stream",
          "name": "stderr",
          "text": [
            "[Epoch (train) 5/100]: 100%|██████████| 665/665 [00:03<00:00, 188.23it/s]\n",
            "[Epoch (val) 5/100]: 100%|██████████| 167/167 [00:00<00:00, 397.81it/s]\n"
          ]
        },
        {
          "output_type": "stream",
          "name": "stdout",
          "text": [
            "EarlyStopping counter: 2 out of 5\n"
          ]
        },
        {
          "output_type": "stream",
          "name": "stderr",
          "text": [
            "[Epoch (train) 6/100]: 100%|██████████| 665/665 [00:03<00:00, 220.44it/s]\n",
            "[Epoch (val) 6/100]: 100%|██████████| 167/167 [00:00<00:00, 596.80it/s]\n",
            "[Epoch (train) 7/100]: 100%|██████████| 665/665 [00:02<00:00, 232.31it/s]\n",
            "[Epoch (val) 7/100]: 100%|██████████| 167/167 [00:00<00:00, 548.34it/s]\n"
          ]
        },
        {
          "output_type": "stream",
          "name": "stdout",
          "text": [
            "EarlyStopping counter: 1 out of 5\n"
          ]
        },
        {
          "output_type": "stream",
          "name": "stderr",
          "text": [
            "[Epoch (train) 8/100]: 100%|██████████| 665/665 [00:02<00:00, 239.10it/s]\n",
            "[Epoch (val) 8/100]: 100%|██████████| 167/167 [00:00<00:00, 503.95it/s]\n",
            "[Epoch (train) 9/100]: 100%|██████████| 665/665 [00:03<00:00, 196.88it/s]\n",
            "[Epoch (val) 9/100]: 100%|██████████| 167/167 [00:00<00:00, 403.40it/s]\n"
          ]
        },
        {
          "output_type": "stream",
          "name": "stdout",
          "text": [
            "EarlyStopping counter: 1 out of 5\n"
          ]
        },
        {
          "output_type": "stream",
          "name": "stderr",
          "text": [
            "[Epoch (train) 10/100]: 100%|██████████| 665/665 [00:03<00:00, 206.43it/s]\n",
            "[Epoch (val) 10/100]: 100%|██████████| 167/167 [00:00<00:00, 617.91it/s]\n",
            "[Epoch (train) 11/100]: 100%|██████████| 665/665 [00:02<00:00, 240.30it/s]\n",
            "[Epoch (val) 11/100]: 100%|██████████| 167/167 [00:00<00:00, 605.36it/s]\n",
            "[Epoch (train) 12/100]: 100%|██████████| 665/665 [00:02<00:00, 242.20it/s]\n",
            "[Epoch (val) 12/100]: 100%|██████████| 167/167 [00:00<00:00, 594.46it/s]\n"
          ]
        },
        {
          "output_type": "stream",
          "name": "stdout",
          "text": [
            "EarlyStopping counter: 1 out of 5\n"
          ]
        },
        {
          "output_type": "stream",
          "name": "stderr",
          "text": [
            "[Epoch (train) 13/100]: 100%|██████████| 665/665 [00:03<00:00, 216.14it/s]\n",
            "[Epoch (val) 13/100]: 100%|██████████| 167/167 [00:00<00:00, 442.54it/s]\n",
            "[Epoch (train) 14/100]: 100%|██████████| 665/665 [00:03<00:00, 201.68it/s]\n",
            "[Epoch (val) 14/100]: 100%|██████████| 167/167 [00:00<00:00, 596.40it/s]\n"
          ]
        },
        {
          "output_type": "stream",
          "name": "stdout",
          "text": [
            "EarlyStopping counter: 1 out of 5\n"
          ]
        },
        {
          "output_type": "stream",
          "name": "stderr",
          "text": [
            "[Epoch (train) 15/100]: 100%|██████████| 665/665 [00:02<00:00, 242.68it/s]\n",
            "[Epoch (val) 15/100]: 100%|██████████| 167/167 [00:00<00:00, 596.90it/s]\n"
          ]
        },
        {
          "output_type": "stream",
          "name": "stdout",
          "text": [
            "EarlyStopping counter: 2 out of 5\n"
          ]
        },
        {
          "output_type": "stream",
          "name": "stderr",
          "text": [
            "[Epoch (train) 16/100]: 100%|██████████| 665/665 [00:02<00:00, 246.08it/s]\n",
            "[Epoch (val) 16/100]: 100%|██████████| 167/167 [00:00<00:00, 584.62it/s]\n"
          ]
        },
        {
          "output_type": "stream",
          "name": "stdout",
          "text": [
            "EarlyStopping counter: 3 out of 5\n"
          ]
        },
        {
          "output_type": "stream",
          "name": "stderr",
          "text": [
            "[Epoch (train) 17/100]: 100%|██████████| 665/665 [00:03<00:00, 220.52it/s]\n",
            "[Epoch (val) 17/100]: 100%|██████████| 167/167 [00:00<00:00, 427.31it/s]\n"
          ]
        },
        {
          "output_type": "stream",
          "name": "stdout",
          "text": [
            "EarlyStopping counter: 4 out of 5\n"
          ]
        },
        {
          "output_type": "stream",
          "name": "stderr",
          "text": [
            "[Epoch (train) 18/100]: 100%|██████████| 665/665 [00:03<00:00, 182.76it/s]\n",
            "[Epoch (val) 18/100]: 100%|██████████| 167/167 [00:00<00:00, 557.75it/s]\n",
            "[Epoch (train) 19/100]: 100%|██████████| 665/665 [00:02<00:00, 244.01it/s]\n",
            "[Epoch (val) 19/100]: 100%|██████████| 167/167 [00:00<00:00, 562.99it/s]\n",
            "[Epoch (train) 20/100]: 100%|██████████| 665/665 [00:02<00:00, 242.54it/s]\n",
            "[Epoch (val) 20/100]: 100%|██████████| 167/167 [00:00<00:00, 564.90it/s]\n"
          ]
        },
        {
          "output_type": "stream",
          "name": "stdout",
          "text": [
            "EarlyStopping counter: 1 out of 5\n"
          ]
        },
        {
          "output_type": "stream",
          "name": "stderr",
          "text": [
            "[Epoch (train) 21/100]: 100%|██████████| 665/665 [00:02<00:00, 238.81it/s]\n",
            "[Epoch (val) 21/100]: 100%|██████████| 167/167 [00:00<00:00, 407.55it/s]\n"
          ]
        },
        {
          "output_type": "stream",
          "name": "stdout",
          "text": [
            "EarlyStopping counter: 2 out of 5\n"
          ]
        },
        {
          "output_type": "stream",
          "name": "stderr",
          "text": [
            "[Epoch (train) 22/100]: 100%|██████████| 665/665 [00:04<00:00, 164.06it/s]\n",
            "[Epoch (val) 22/100]: 100%|██████████| 167/167 [00:00<00:00, 595.70it/s]\n"
          ]
        },
        {
          "output_type": "stream",
          "name": "stdout",
          "text": [
            "EarlyStopping counter: 3 out of 5\n"
          ]
        },
        {
          "output_type": "stream",
          "name": "stderr",
          "text": [
            "[Epoch (train) 23/100]: 100%|██████████| 665/665 [00:02<00:00, 235.68it/s]\n",
            "[Epoch (val) 23/100]: 100%|██████████| 167/167 [00:00<00:00, 599.62it/s]\n",
            "[Epoch (train) 24/100]: 100%|██████████| 665/665 [00:02<00:00, 232.82it/s]\n",
            "[Epoch (val) 24/100]: 100%|██████████| 167/167 [00:00<00:00, 574.99it/s]\n"
          ]
        },
        {
          "output_type": "stream",
          "name": "stdout",
          "text": [
            "EarlyStopping counter: 1 out of 5\n"
          ]
        },
        {
          "output_type": "stream",
          "name": "stderr",
          "text": [
            "[Epoch (train) 25/100]: 100%|██████████| 665/665 [00:02<00:00, 241.03it/s]\n",
            "[Epoch (val) 25/100]: 100%|██████████| 167/167 [00:00<00:00, 535.12it/s]\n"
          ]
        },
        {
          "output_type": "stream",
          "name": "stdout",
          "text": [
            "EarlyStopping counter: 2 out of 5\n"
          ]
        },
        {
          "output_type": "stream",
          "name": "stderr",
          "text": [
            "[Epoch (train) 26/100]: 100%|██████████| 665/665 [00:03<00:00, 170.68it/s]\n",
            "[Epoch (val) 26/100]: 100%|██████████| 167/167 [00:00<00:00, 380.82it/s]\n"
          ]
        },
        {
          "output_type": "stream",
          "name": "stdout",
          "text": [
            "EarlyStopping counter: 3 out of 5\n"
          ]
        },
        {
          "output_type": "stream",
          "name": "stderr",
          "text": [
            "[Epoch (train) 27/100]: 100%|██████████| 665/665 [00:02<00:00, 233.14it/s]\n",
            "[Epoch (val) 27/100]: 100%|██████████| 167/167 [00:00<00:00, 600.98it/s]\n"
          ]
        },
        {
          "output_type": "stream",
          "name": "stdout",
          "text": [
            "EarlyStopping counter: 4 out of 5\n"
          ]
        },
        {
          "output_type": "stream",
          "name": "stderr",
          "text": [
            "[Epoch (train) 28/100]: 100%|██████████| 665/665 [00:02<00:00, 235.19it/s]\n",
            "[Epoch (val) 28/100]: 100%|██████████| 167/167 [00:00<00:00, 591.26it/s]\n"
          ]
        },
        {
          "output_type": "stream",
          "name": "stdout",
          "text": [
            "EarlyStopping counter: 5 out of 5\n",
            "==========================\n",
            "train end period:  202208\n",
            "balanced_train_labels:  (55392,)\n",
            "balanced_train_features:  (55392, 12, 3)\n"
          ]
        },
        {
          "output_type": "stream",
          "name": "stderr",
          "text": [
            "[Epoch (train) 1/100]: 100%|██████████| 693/693 [00:03<00:00, 216.69it/s]\n",
            "[Epoch (val) 1/100]: 100%|██████████| 174/174 [00:00<00:00, 415.82it/s]\n",
            "[Epoch (train) 2/100]: 100%|██████████| 693/693 [00:03<00:00, 199.35it/s]\n",
            "[Epoch (val) 2/100]: 100%|██████████| 174/174 [00:00<00:00, 601.49it/s]\n",
            "[Epoch (train) 3/100]: 100%|██████████| 693/693 [00:02<00:00, 242.89it/s]\n",
            "[Epoch (val) 3/100]: 100%|██████████| 174/174 [00:00<00:00, 588.04it/s]\n",
            "[Epoch (train) 4/100]: 100%|██████████| 693/693 [00:02<00:00, 242.44it/s]\n",
            "[Epoch (val) 4/100]: 100%|██████████| 174/174 [00:00<00:00, 591.83it/s]\n",
            "[Epoch (train) 5/100]: 100%|██████████| 693/693 [00:03<00:00, 223.32it/s]\n",
            "[Epoch (val) 5/100]: 100%|██████████| 174/174 [00:00<00:00, 390.80it/s]\n",
            "[Epoch (train) 6/100]: 100%|██████████| 693/693 [00:03<00:00, 197.39it/s]\n",
            "[Epoch (val) 6/100]: 100%|██████████| 174/174 [00:00<00:00, 551.94it/s]\n",
            "[Epoch (train) 7/100]: 100%|██████████| 693/693 [00:02<00:00, 236.83it/s]\n",
            "[Epoch (val) 7/100]: 100%|██████████| 174/174 [00:00<00:00, 613.14it/s]\n"
          ]
        },
        {
          "output_type": "stream",
          "name": "stdout",
          "text": [
            "EarlyStopping counter: 1 out of 5\n"
          ]
        },
        {
          "output_type": "stream",
          "name": "stderr",
          "text": [
            "[Epoch (train) 8/100]: 100%|██████████| 693/693 [00:02<00:00, 243.80it/s]\n",
            "[Epoch (val) 8/100]: 100%|██████████| 174/174 [00:00<00:00, 612.97it/s]\n"
          ]
        },
        {
          "output_type": "stream",
          "name": "stdout",
          "text": [
            "EarlyStopping counter: 2 out of 5\n"
          ]
        },
        {
          "output_type": "stream",
          "name": "stderr",
          "text": [
            "[Epoch (train) 9/100]: 100%|██████████| 693/693 [00:03<00:00, 230.14it/s]\n",
            "[Epoch (val) 9/100]: 100%|██████████| 174/174 [00:00<00:00, 410.04it/s]\n"
          ]
        },
        {
          "output_type": "stream",
          "name": "stdout",
          "text": [
            "EarlyStopping counter: 3 out of 5\n"
          ]
        },
        {
          "output_type": "stream",
          "name": "stderr",
          "text": [
            "[Epoch (train) 10/100]: 100%|██████████| 693/693 [00:03<00:00, 193.55it/s]\n",
            "[Epoch (val) 10/100]: 100%|██████████| 174/174 [00:00<00:00, 619.59it/s]\n"
          ]
        },
        {
          "output_type": "stream",
          "name": "stdout",
          "text": [
            "EarlyStopping counter: 4 out of 5\n"
          ]
        },
        {
          "output_type": "stream",
          "name": "stderr",
          "text": [
            "[Epoch (train) 11/100]: 100%|██████████| 693/693 [00:02<00:00, 243.65it/s]\n",
            "[Epoch (val) 11/100]: 100%|██████████| 174/174 [00:00<00:00, 553.09it/s]\n"
          ]
        },
        {
          "output_type": "stream",
          "name": "stdout",
          "text": [
            "EarlyStopping counter: 5 out of 5\n"
          ]
        }
      ]
    },
    {
      "cell_type": "markdown",
      "source": [
        "**offline evaluation**"
      ],
      "metadata": {
        "id": "B-NFZd2pFael"
      }
    },
    {
      "cell_type": "code",
      "source": [
        "if not os.path.exists(os.path.join(cfg.RESULT_DIR, \"results_\"+cfg.PROBLEM+\".npz\")):\n",
        "    print('-----------------')\n",
        "    print('start evaluation')\n",
        "    print('-----------------')\n",
        "    offline_analysis(cfg)\n",
        "    summary_table(cfg)\n",
        "    visualize_offline_results(cfg)\n",
        "    map_visualize_offline_analysis(cfg)\n",
        "elif cfg.REEVALUATION==True:\n",
        "    print('-------------------')\n",
        "    print('start reevaluation')\n",
        "    print('-------------------')\n",
        "    offline_analysis(cfg)\n",
        "    summary_table(cfg)\n",
        "    visualize_offline_results(cfg)\n",
        "    map_visualize_offline_analysis(cfg)\n",
        "else:\n",
        "    print('-----------------')\n",
        "    print('already evaluated')\n",
        "    print('-----------------')"
      ],
      "metadata": {
        "colab": {
          "base_uri": "https://localhost:8080/",
          "height": 1000
        },
        "id": "t3V5foWPFeV8",
        "outputId": "58c08f33-5d12-4644-d6ce-9c093fdd8400"
      },
      "execution_count": 10,
      "outputs": [
        {
          "output_type": "stream",
          "name": "stdout",
          "text": [
            "-----------------\n",
            "start evaluation\n",
            "-----------------\n",
            "==========================\n",
            "test period:  202010\n",
            "==========================\n",
            "test period:  202011\n",
            "==========================\n",
            "test period:  202012\n",
            "==========================\n",
            "test period:  202101\n",
            "==========================\n",
            "test period:  202102\n",
            "==========================\n",
            "test period:  202103\n",
            "==========================\n",
            "test period:  202104\n",
            "==========================\n",
            "test period:  202105\n",
            "==========================\n",
            "test period:  202106\n",
            "==========================\n",
            "test period:  202107\n",
            "==========================\n",
            "test period:  202108\n",
            "==========================\n",
            "test period:  202109\n",
            "==========================\n",
            "test period:  202110\n",
            "==========================\n",
            "test period:  202111\n",
            "==========================\n",
            "test period:  202112\n",
            "==========================\n",
            "test period:  202201\n",
            "==========================\n",
            "test period:  202202\n",
            "==========================\n",
            "test period:  202203\n",
            "==========================\n",
            "test period:  202204\n",
            "==========================\n",
            "test period:  202205\n",
            "==========================\n",
            "test period:  202206\n",
            "==========================\n",
            "test period:  202207\n",
            "==========================\n",
            "test period:  202208\n",
            "==========================\n",
            "test period:  202209\n",
            "==============\n",
            "summary table\n",
            "==============\n",
            "porto_velho\n",
            "           acc    recall   precision  f1 score\n",
            "LSTM_mean:  0.867   0.772     0.557       0.566\n",
            "LSTM_max:   0.903   0.811     0.593       0.624\n",
            "LR_mean:  0.717   0.794     0.534       0.483\n",
            "LR_max:   0.752   0.818     0.555       0.530\n",
            "\n",
            "\n",
            "humaita\n",
            "           acc    recall   precision  f1 score\n",
            "LSTM_mean:  0.893   0.756     0.542       0.544\n",
            "LSTM_max:   0.950   0.800     0.612       0.653\n",
            "LR_mean:  0.714   0.806     0.519       0.452\n",
            "LR_max:   0.737   0.840     0.534       0.482\n",
            "\n",
            "\n",
            "altamira\n",
            "           acc    recall   precision  f1 score\n",
            "LSTM_mean:  0.903   0.700     0.534       0.537\n",
            "LSTM_max:   0.961   0.750     0.566       0.594\n",
            "LR_mean:  0.707   0.741     0.515       0.444\n",
            "LR_max:   0.747   0.794     0.527       0.471\n",
            "\n",
            "\n",
            "vista_alegre_do_abuna\n",
            "           acc    recall   precision  f1 score\n",
            "LSTM_mean:  0.844   0.761     0.537       0.521\n",
            "LSTM_max:   0.954   0.826     0.575       0.611\n",
            "LR_mean:  0.511   0.738     0.511       0.358\n",
            "LR_max:   0.527   0.751     0.516       0.373\n",
            "\n",
            "\n",
            "novo_progresso\n",
            "           acc    recall   precision  f1 score\n",
            "LSTM_mean:  0.800   0.692     0.517       0.470\n",
            "LSTM_max:   0.964   0.829     0.547       0.566\n",
            "LR_mean:  0.338   0.625     0.504       0.259\n",
            "LR_max:   0.350   0.652     0.508       0.271\n",
            "\n",
            "\n",
            "sao_felix_do_xingu\n",
            "           acc    recall   precision  f1 score\n",
            "LSTM_mean:  0.881   0.729     0.537       0.533\n",
            "LSTM_max:   0.944   0.770     0.585       0.622\n",
            "LR_mean:  0.642   0.707     0.511       0.415\n",
            "LR_max:   0.660   0.748     0.518       0.425\n",
            "\n",
            "\n",
            "S6W57\n",
            "           acc    recall   precision  f1 score\n",
            "LSTM_mean:  0.871   0.715     0.521       0.503\n",
            "LSTM_max:   0.958   0.806     0.554       0.582\n",
            "LR_mean:  0.526   0.718     0.506       0.356\n",
            "LR_max:   0.561   0.754     0.509       0.374\n",
            "\n",
            "\n",
            "S7W57\n",
            "           acc    recall   precision  f1 score\n",
            "LSTM_mean:  0.920   0.671     0.513       0.504\n",
            "LSTM_max:   0.981   0.797     0.525       0.536\n",
            "LR_mean:  0.634   0.741     0.504       0.396\n",
            "LR_max:   0.657   0.817     0.508       0.412\n",
            "\n",
            "\n"
          ]
        },
        {
          "output_type": "display_data",
          "data": {
            "text/plain": [
              "<Figure size 1500x1000 with 0 Axes>"
            ]
          },
          "metadata": {}
        },
        {
          "output_type": "display_data",
          "data": {
            "text/plain": [
              "<Figure size 1500x1000 with 0 Axes>"
            ]
          },
          "metadata": {}
        },
        {
          "output_type": "display_data",
          "data": {
            "text/plain": [
              "<Figure size 1500x1000 with 0 Axes>"
            ]
          },
          "metadata": {}
        },
        {
          "output_type": "display_data",
          "data": {
            "text/plain": [
              "<Figure size 1500x1000 with 0 Axes>"
            ]
          },
          "metadata": {}
        },
        {
          "output_type": "display_data",
          "data": {
            "text/plain": [
              "<Figure size 1500x1000 with 0 Axes>"
            ]
          },
          "metadata": {}
        },
        {
          "output_type": "display_data",
          "data": {
            "text/plain": [
              "<Figure size 1500x1000 with 0 Axes>"
            ]
          },
          "metadata": {}
        },
        {
          "output_type": "display_data",
          "data": {
            "text/plain": [
              "<Figure size 1500x1000 with 0 Axes>"
            ]
          },
          "metadata": {}
        },
        {
          "output_type": "display_data",
          "data": {
            "text/plain": [
              "<Figure size 1500x1000 with 0 Axes>"
            ]
          },
          "metadata": {}
        },
        {
          "output_type": "display_data",
          "data": {
            "text/plain": [
              "<Figure size 1500x1000 with 0 Axes>"
            ]
          },
          "metadata": {}
        }
      ]
    },
    {
      "cell_type": "markdown",
      "source": [
        "**furure prediction**"
      ],
      "metadata": {
        "id": "D0Cf2z3BFhwu"
      }
    },
    {
      "cell_type": "code",
      "source": [
        "# predict deforestation event of next month (no true values) using the latest model\n",
        "if cfg.FUTURE_PREDICT == True:\n",
        "    # future prediction (no true values)\n",
        "    print('-------------------------')\n",
        "    print(' start future prediction ')\n",
        "    print('-------------------------')\n",
        "    future_predict(cfg)"
      ],
      "metadata": {
        "id": "Xka2sa7QFhNB",
        "colab": {
          "base_uri": "https://localhost:8080/"
        },
        "outputId": "fa4320ff-13c6-478f-940d-04a3457604a4"
      },
      "execution_count": 11,
      "outputs": [
        {
          "output_type": "stream",
          "name": "stdout",
          "text": [
            "-------------------------\n",
            " start future prediction \n",
            "-------------------------\n",
            "==========================\n",
            "pred period:  202209\n"
          ]
        }
      ]
    }
  ]
}